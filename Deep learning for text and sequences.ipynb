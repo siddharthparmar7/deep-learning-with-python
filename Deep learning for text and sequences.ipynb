{
 "cells": [
  {
   "cell_type": "code",
   "execution_count": 1,
   "metadata": {},
   "outputs": [],
   "source": [
    "import os\n",
    "import numpy as np\n",
    "import matplotlib.pyplot as plt\n",
    "\n",
    "import tensorflow as tf\n",
    "from tensorflow.keras import models\n",
    "from tensorflow.keras import layers\n",
    "\n",
    "from tensorflow.keras.layers import Embedding\n",
    "\n",
    "from tensorflow.keras.preprocessing.text import Tokenizer\n",
    "from tensorflow.keras.preprocessing.sequence import pad_sequences\n",
    "from tensorflow.keras import preprocessing\n",
    "from tensorflow.keras.preprocessing import sequence\n",
    "\n",
    "from tensorflow.keras import optimizers\n",
    "from tensorflow.keras import losses\n",
    "\n",
    "# load IMDB dataset\n",
    "from tensorflow.keras.datasets import imdb"
   ]
  },
  {
   "cell_type": "code",
   "execution_count": 2,
   "metadata": {},
   "outputs": [
    {
     "data": {
      "text/plain": [
       "'2.4.1'"
      ]
     },
     "execution_count": 2,
     "metadata": {},
     "output_type": "execute_result"
    }
   ],
   "source": [
    "tf.__version__"
   ]
  },
  {
   "cell_type": "markdown",
   "metadata": {},
   "source": [
    "### One hot encoding\n",
    "\n",
    "Using Keras for word-level one hot encoding"
   ]
  },
  {
   "cell_type": "code",
   "execution_count": 3,
   "metadata": {},
   "outputs": [],
   "source": [
    "samples = ['The cat sat on the mat.', 'The dog ate my homework.']"
   ]
  },
  {
   "cell_type": "code",
   "execution_count": 4,
   "metadata": {},
   "outputs": [],
   "source": [
    "tokenizer = Tokenizer(num_words=1000)\n",
    "tokenizer.fit_on_texts(samples)"
   ]
  },
  {
   "cell_type": "code",
   "execution_count": 5,
   "metadata": {},
   "outputs": [],
   "source": [
    "sequences = tokenizer.texts_to_sequences(samples)"
   ]
  },
  {
   "cell_type": "code",
   "execution_count": 6,
   "metadata": {},
   "outputs": [
    {
     "data": {
      "text/plain": [
       "[[1, 2, 3, 4, 1, 5], [1, 6, 7, 8, 9]]"
      ]
     },
     "execution_count": 6,
     "metadata": {},
     "output_type": "execute_result"
    }
   ],
   "source": [
    "sequences"
   ]
  },
  {
   "cell_type": "code",
   "execution_count": 7,
   "metadata": {},
   "outputs": [],
   "source": [
    "one_hot_results = tokenizer.texts_to_matrix(samples, mode='binary')"
   ]
  },
  {
   "cell_type": "code",
   "execution_count": 8,
   "metadata": {},
   "outputs": [
    {
     "data": {
      "text/plain": [
       "array([[0., 1., 1., ..., 0., 0., 0.],\n",
       "       [0., 1., 0., ..., 0., 0., 0.]])"
      ]
     },
     "execution_count": 8,
     "metadata": {},
     "output_type": "execute_result"
    }
   ],
   "source": [
    "one_hot_results"
   ]
  },
  {
   "cell_type": "code",
   "execution_count": 9,
   "metadata": {},
   "outputs": [
    {
     "name": "stdout",
     "output_type": "stream",
     "text": [
      "found 9 unique tokens\n"
     ]
    }
   ],
   "source": [
    "word_index = tokenizer.word_index\n",
    "\n",
    "print('found %s unique tokens' % len(word_index))"
   ]
  },
  {
   "cell_type": "markdown",
   "metadata": {},
   "source": [
    "### Word Embedding"
   ]
  },
  {
   "cell_type": "markdown",
   "metadata": {},
   "source": [
    "Loading the IMDB data for use with an Embedding layer"
   ]
  },
  {
   "cell_type": "code",
   "execution_count": 10,
   "metadata": {},
   "outputs": [],
   "source": [
    "max_features = 10000\n",
    "max_len = 20"
   ]
  },
  {
   "cell_type": "code",
   "execution_count": 11,
   "metadata": {},
   "outputs": [
    {
     "name": "stderr",
     "output_type": "stream",
     "text": [
      "<string>:6: VisibleDeprecationWarning: Creating an ndarray from ragged nested sequences (which is a list-or-tuple of lists-or-tuples-or ndarrays with different lengths or shapes) is deprecated. If you meant to do this, you must specify 'dtype=object' when creating the ndarray\n",
      "/Users/sidparmar/opt/anaconda3/envs/ml/lib/python3.7/site-packages/tensorflow/python/keras/datasets/imdb.py:159: VisibleDeprecationWarning: Creating an ndarray from ragged nested sequences (which is a list-or-tuple of lists-or-tuples-or ndarrays with different lengths or shapes) is deprecated. If you meant to do this, you must specify 'dtype=object' when creating the ndarray\n",
      "  x_train, y_train = np.array(xs[:idx]), np.array(labels[:idx])\n",
      "/Users/sidparmar/opt/anaconda3/envs/ml/lib/python3.7/site-packages/tensorflow/python/keras/datasets/imdb.py:160: VisibleDeprecationWarning: Creating an ndarray from ragged nested sequences (which is a list-or-tuple of lists-or-tuples-or ndarrays with different lengths or shapes) is deprecated. If you meant to do this, you must specify 'dtype=object' when creating the ndarray\n",
      "  x_test, y_test = np.array(xs[idx:]), np.array(labels[idx:])\n"
     ]
    }
   ],
   "source": [
    "(x_train, y_train), (x_test, y_test) = imdb.load_data(num_words=max_features)"
   ]
  },
  {
   "cell_type": "code",
   "execution_count": 12,
   "metadata": {},
   "outputs": [],
   "source": [
    "x_train = preprocessing.sequence.pad_sequences(x_train, maxlen=max_len)\n",
    "x_test = preprocessing.sequence.pad_sequences(x_test, maxlen=max_len)"
   ]
  },
  {
   "cell_type": "code",
   "execution_count": 13,
   "metadata": {},
   "outputs": [],
   "source": [
    "embedding_layer = Embedding(1000, 64)"
   ]
  },
  {
   "cell_type": "code",
   "execution_count": 14,
   "metadata": {},
   "outputs": [],
   "source": [
    "model = models.Sequential()\n",
    "\n",
    "model.add(Embedding(10000, 8, input_length=max_len))\n",
    "\n",
    "model.add(layers.Flatten())\n",
    "\n",
    "model.add(layers.Dense(1, activation=\"sigmoid\"))"
   ]
  },
  {
   "cell_type": "code",
   "execution_count": 15,
   "metadata": {},
   "outputs": [],
   "source": [
    "model.compile(optimizer='rmsprop', loss='binary_crossentropy', metrics=['acc'])"
   ]
  },
  {
   "cell_type": "code",
   "execution_count": 16,
   "metadata": {},
   "outputs": [
    {
     "name": "stdout",
     "output_type": "stream",
     "text": [
      "Epoch 1/10\n",
      "625/625 [==============================] - 1s 2ms/step - loss: 0.6890 - acc: 0.5387 - val_loss: 0.6393 - val_acc: 0.6904\n",
      "Epoch 2/10\n",
      "625/625 [==============================] - 1s 841us/step - loss: 0.5919 - acc: 0.7376 - val_loss: 0.5341 - val_acc: 0.7268\n",
      "Epoch 3/10\n",
      "625/625 [==============================] - 0s 772us/step - loss: 0.4811 - acc: 0.7797 - val_loss: 0.5024 - val_acc: 0.7458\n",
      "Epoch 4/10\n",
      "625/625 [==============================] - 0s 754us/step - loss: 0.4309 - acc: 0.8089 - val_loss: 0.4944 - val_acc: 0.7516\n",
      "Epoch 5/10\n",
      "625/625 [==============================] - 0s 752us/step - loss: 0.3958 - acc: 0.8214 - val_loss: 0.4935 - val_acc: 0.7550\n",
      "Epoch 6/10\n",
      "625/625 [==============================] - 0s 744us/step - loss: 0.3762 - acc: 0.8369 - val_loss: 0.4959 - val_acc: 0.7566\n",
      "Epoch 7/10\n",
      "625/625 [==============================] - 1s 861us/step - loss: 0.3538 - acc: 0.8486 - val_loss: 0.5026 - val_acc: 0.7560\n",
      "Epoch 8/10\n",
      "625/625 [==============================] - 1s 894us/step - loss: 0.3364 - acc: 0.8561 - val_loss: 0.5091 - val_acc: 0.7562\n",
      "Epoch 9/10\n",
      "625/625 [==============================] - 0s 774us/step - loss: 0.3071 - acc: 0.8727 - val_loss: 0.5179 - val_acc: 0.7524\n",
      "Epoch 10/10\n",
      "625/625 [==============================] - 1s 867us/step - loss: 0.2877 - acc: 0.8833 - val_loss: 0.5286 - val_acc: 0.7492\n"
     ]
    }
   ],
   "source": [
    "history = model.fit(x_train, y_train, epochs=10, batch_size=32, validation_split=0.2)"
   ]
  },
  {
   "cell_type": "markdown",
   "metadata": {},
   "source": [
    "74% validation accuracy with just 20 words per review. That's great."
   ]
  },
  {
   "cell_type": "markdown",
   "metadata": {},
   "source": [
    "But note that merely flattening the embedded sequences and training a single Dense layer on top leads to a model that treats each word in the input sequence separately, without considering inter-word relationships and sentence structure (for example, this model would likely treat both “this movie is a bomb” and “this movie is the bomb” as being negative reviews). It’s much better to add recurrent layers or 1D convolutional layers on top of the embedded sequences to learn features that take into account each sequence as a whole. "
   ]
  },
  {
   "cell_type": "markdown",
   "metadata": {},
   "source": [
    "### from raw text to word embeddings"
   ]
  },
  {
   "cell_type": "markdown",
   "metadata": {},
   "source": [
    "Processing the labels of the raw IMDB data"
   ]
  },
  {
   "cell_type": "code",
   "execution_count": 17,
   "metadata": {},
   "outputs": [],
   "source": [
    "imdb_dir = '/Users/sidparmar/workspace-ml/aclImdb'\n",
    "train_dir = os.path.join(imdb_dir, 'train')"
   ]
  },
  {
   "cell_type": "code",
   "execution_count": 18,
   "metadata": {},
   "outputs": [],
   "source": [
    "labels = []\n",
    "texts = []"
   ]
  },
  {
   "cell_type": "code",
   "execution_count": 19,
   "metadata": {},
   "outputs": [],
   "source": [
    "for label_type in ['neg', 'pos']:\n",
    "    dir_name = os.path.join(train_dir, label_type)\n",
    "    \n",
    "    for fname in os.listdir(dir_name):\n",
    "        if fname[-4:] == '.txt':\n",
    "            f = open(os.path.join(dir_name, fname))\n",
    "            texts.append(f.read())\n",
    "            f.close()\n",
    "            \n",
    "            if label_type == 'neg':\n",
    "                labels.append(0)\n",
    "                \n",
    "            else:\n",
    "                labels.append(1)            "
   ]
  },
  {
   "cell_type": "markdown",
   "metadata": {},
   "source": [
    "### Tokenizing the data"
   ]
  },
  {
   "cell_type": "code",
   "execution_count": 20,
   "metadata": {},
   "outputs": [],
   "source": [
    "maxlen = 100\n",
    "training_samples = 200\n",
    "validation_samples = 10000\n",
    "max_words = 10000"
   ]
  },
  {
   "cell_type": "code",
   "execution_count": 21,
   "metadata": {},
   "outputs": [],
   "source": [
    "tokenizer = Tokenizer(num_words=max_words)\n",
    "tokenizer.fit_on_texts(texts)\n",
    "sequences = tokenizer.texts_to_sequences(texts)"
   ]
  },
  {
   "cell_type": "code",
   "execution_count": 22,
   "metadata": {},
   "outputs": [
    {
     "name": "stdout",
     "output_type": "stream",
     "text": [
      "Unique words 88582\n"
     ]
    }
   ],
   "source": [
    "word_index = tokenizer.word_index\n",
    "print(\"Unique words\", len(word_index))"
   ]
  },
  {
   "cell_type": "code",
   "execution_count": 23,
   "metadata": {},
   "outputs": [],
   "source": [
    "data = pad_sequences(sequences, maxlen=maxlen)"
   ]
  },
  {
   "cell_type": "code",
   "execution_count": 24,
   "metadata": {},
   "outputs": [
    {
     "name": "stdout",
     "output_type": "stream",
     "text": [
      "Shape of data tensor (25000, 100)\n",
      "Shape of label tensor (25000,)\n"
     ]
    }
   ],
   "source": [
    "labels = np.asarray(labels)\n",
    "print('Shape of data tensor', data.shape)\n",
    "print('Shape of label tensor', labels.shape)"
   ]
  },
  {
   "cell_type": "code",
   "execution_count": 25,
   "metadata": {},
   "outputs": [],
   "source": [
    "indices = np.arange(data.shape[0])\n",
    "np.random.shuffle(indices)\n",
    "data = data[indices]\n",
    "labels = labels[indices]"
   ]
  },
  {
   "cell_type": "code",
   "execution_count": 26,
   "metadata": {},
   "outputs": [],
   "source": [
    "x_train = data[:training_samples]\n",
    "y_train = labels[:training_samples]\n",
    "x_val = data[training_samples: training_samples + validation_samples]\n",
    "y_val = labels[training_samples: training_samples + validation_samples]"
   ]
  },
  {
   "cell_type": "markdown",
   "metadata": {},
   "source": [
    "#### Preprocessing the embeddings"
   ]
  },
  {
   "cell_type": "code",
   "execution_count": 27,
   "metadata": {},
   "outputs": [],
   "source": [
    "glove_dir = '/Users/sidparmar/workspace-ml/'"
   ]
  },
  {
   "cell_type": "code",
   "execution_count": 28,
   "metadata": {},
   "outputs": [],
   "source": [
    "embedding_index = {}\n",
    "f = open(os.path.join(glove_dir, 'glove.42B.300d.txt'))\n",
    "for line in f:\n",
    "    values = line.split()\n",
    "    word = values[0]\n",
    "    coefs = np.asarray(values[1:], dtype='float32')\n",
    "    embedding_index[word] = coefs\n",
    "f.close()"
   ]
  },
  {
   "cell_type": "code",
   "execution_count": 29,
   "metadata": {},
   "outputs": [
    {
     "name": "stdout",
     "output_type": "stream",
     "text": [
      "Founds 1917494 words vecrtor\n"
     ]
    }
   ],
   "source": [
    "print('Founds %s words vecrtor' % len(embedding_index))"
   ]
  },
  {
   "cell_type": "markdown",
   "metadata": {},
   "source": [
    "Next, you’ll build an embedding matrix that you can load into an Embedding layer. "
   ]
  },
  {
   "cell_type": "code",
   "execution_count": 30,
   "metadata": {},
   "outputs": [],
   "source": [
    "embedding_dim = 300\n",
    "\n",
    "embedding_matrix = np.zeros((max_words, embedding_dim))"
   ]
  },
  {
   "cell_type": "code",
   "execution_count": 31,
   "metadata": {},
   "outputs": [],
   "source": [
    "for word, i in word_index.items():\n",
    "    if i < max_words:\n",
    "        embedding_vector = embedding_index.get(word)\n",
    "        if embedding_vector is not None:\n",
    "            embedding_matrix[i] = embedding_vector"
   ]
  },
  {
   "cell_type": "markdown",
   "metadata": {},
   "source": [
    "#### Build model"
   ]
  },
  {
   "cell_type": "code",
   "execution_count": 32,
   "metadata": {},
   "outputs": [
    {
     "name": "stdout",
     "output_type": "stream",
     "text": [
      "Model: \"sequential_1\"\n",
      "_________________________________________________________________\n",
      "Layer (type)                 Output Shape              Param #   \n",
      "=================================================================\n",
      "embedding_2 (Embedding)      (None, 100, 300)          3000000   \n",
      "_________________________________________________________________\n",
      "flatten_1 (Flatten)          (None, 30000)             0         \n",
      "_________________________________________________________________\n",
      "dense_1 (Dense)              (None, 32)                960032    \n",
      "_________________________________________________________________\n",
      "dense_2 (Dense)              (None, 1)                 33        \n",
      "=================================================================\n",
      "Total params: 3,960,065\n",
      "Trainable params: 3,960,065\n",
      "Non-trainable params: 0\n",
      "_________________________________________________________________\n"
     ]
    }
   ],
   "source": [
    "model = models.Sequential()\n",
    "model.add(layers.Embedding(max_words, embedding_dim, input_length=maxlen))\n",
    "model.add(layers.Flatten())\n",
    "model.add(layers.Dense(32, activation='relu'))\n",
    "model.add(layers.Dense(1, activation='sigmoid'))\n",
    "model.summary()"
   ]
  },
  {
   "cell_type": "markdown",
   "metadata": {},
   "source": [
    "Loading the GloVe embeddings in the model"
   ]
  },
  {
   "cell_type": "code",
   "execution_count": 33,
   "metadata": {},
   "outputs": [],
   "source": [
    "model.layers[0].set_weights([embedding_matrix])\n",
    "model.layers[0].trainable = False"
   ]
  },
  {
   "cell_type": "markdown",
   "metadata": {},
   "source": [
    "Compile and train"
   ]
  },
  {
   "cell_type": "code",
   "execution_count": 34,
   "metadata": {},
   "outputs": [],
   "source": [
    "model.compile(optimizer=optimizers.RMSprop(), \n",
    "              loss=losses.binary_crossentropy, \n",
    "              metrics=['acc'])"
   ]
  },
  {
   "cell_type": "code",
   "execution_count": 35,
   "metadata": {},
   "outputs": [
    {
     "name": "stdout",
     "output_type": "stream",
     "text": [
      "Epoch 1/10\n",
      "7/7 [==============================] - 1s 74ms/step - loss: 1.5930 - acc: 0.5398 - val_loss: 0.6844 - val_acc: 0.5621\n",
      "Epoch 2/10\n",
      "7/7 [==============================] - 0s 57ms/step - loss: 0.3687 - acc: 0.8529 - val_loss: 0.7197 - val_acc: 0.5306\n",
      "Epoch 3/10\n",
      "7/7 [==============================] - 0s 57ms/step - loss: 0.2074 - acc: 0.9730 - val_loss: 0.6844 - val_acc: 0.5728\n",
      "Epoch 4/10\n",
      "7/7 [==============================] - 0s 57ms/step - loss: 0.0947 - acc: 1.0000 - val_loss: 0.9152 - val_acc: 0.5066\n",
      "Epoch 5/10\n",
      "7/7 [==============================] - 0s 67ms/step - loss: 0.0647 - acc: 1.0000 - val_loss: 0.6968 - val_acc: 0.5767\n",
      "Epoch 6/10\n",
      "7/7 [==============================] - 0s 75ms/step - loss: 0.0262 - acc: 1.0000 - val_loss: 0.9161 - val_acc: 0.5228\n",
      "Epoch 7/10\n",
      "7/7 [==============================] - 0s 75ms/step - loss: 0.0170 - acc: 1.0000 - val_loss: 0.8054 - val_acc: 0.5632\n",
      "Epoch 8/10\n",
      "7/7 [==============================] - 0s 72ms/step - loss: 0.0096 - acc: 1.0000 - val_loss: 0.7649 - val_acc: 0.5668\n",
      "Epoch 9/10\n",
      "7/7 [==============================] - 0s 58ms/step - loss: 0.0055 - acc: 1.0000 - val_loss: 0.8013 - val_acc: 0.5652\n",
      "Epoch 10/10\n",
      "7/7 [==============================] - 0s 67ms/step - loss: 0.0030 - acc: 1.0000 - val_loss: 0.8369 - val_acc: 0.5746\n"
     ]
    }
   ],
   "source": [
    "history = model.fit(x_train, y_train, \n",
    "                    epochs=10, \n",
    "                    batch_size=32, \n",
    "                    validation_data=(x_val, y_val))\n",
    "model.save_weights('pre_trained_glove_model.h5')"
   ]
  },
  {
   "cell_type": "markdown",
   "metadata": {},
   "source": [
    "Plot loss and accuracy"
   ]
  },
  {
   "cell_type": "code",
   "execution_count": 36,
   "metadata": {},
   "outputs": [],
   "source": [
    "def plot_loss(loss, val_loss, epochs):\n",
    "    plt.plot(epochs, loss, 'bo', label=\"Training Loss\")\n",
    "    plt.plot(epochs, val_loss, 'b', label=\"Validation Loss\")\n",
    "    \n",
    "    \n",
    "    plt.title('Training and validation loss')\n",
    "    plt.legend()\n",
    "\n",
    "    plt.show()"
   ]
  },
  {
   "cell_type": "code",
   "execution_count": 37,
   "metadata": {},
   "outputs": [],
   "source": [
    "def plot_acc(acc, val_acc, epochs):\n",
    "    plt.plot(epochs, acc, 'bo', label=\"Training Accuracy\")\n",
    "    plt.plot(epochs, val_acc, 'b', label=\"Validation Accuracy\")\n",
    "    \n",
    "    \n",
    "    plt.title('Training and validation Accuracy')\n",
    "    plt.legend()\n",
    "\n",
    "    plt.show()"
   ]
  },
  {
   "cell_type": "code",
   "execution_count": 38,
   "metadata": {},
   "outputs": [],
   "source": [
    "acc = history.history['acc']\n",
    "val_acc = history.history['val_acc']\n",
    "\n",
    "loss = history.history['loss']\n",
    "val_loss = history.history['val_loss']\n",
    "\n",
    "epochs = range(1, len(acc) + 1)"
   ]
  },
  {
   "cell_type": "code",
   "execution_count": 39,
   "metadata": {},
   "outputs": [
    {
     "data": {
      "image/png": "[encoded data removed]",
      "text/plain": [
       "<Figure size 432x288 with 1 Axes>"
      ]
     },
     "metadata": {
      "needs_background": "light"
     },
     "output_type": "display_data"
    }
   ],
   "source": [
    "plot_loss(loss, val_loss, epochs)"
   ]
  },
  {
   "cell_type": "code",
   "execution_count": 40,
   "metadata": {},
   "outputs": [
    {
     "data": {
      "image/png": "[encoded data removed]",
      "text/plain": [
       "<Figure size 432x288 with 1 Axes>"
      ]
     },
     "metadata": {
      "needs_background": "light"
     },
     "output_type": "display_data"
    }
   ],
   "source": [
    "plot_acc(acc, val_acc, epochs)"
   ]
  },
  {
   "cell_type": "markdown",
   "metadata": {},
   "source": [
    "The model quickly starts overfitting, which is unsurprising given the small number of training samples. Validation accuracy has high variance for the same reason, but it seems to reach the high 50s."
   ]
  },
  {
   "cell_type": "markdown",
   "metadata": {},
   "source": [
    "Let's try building a model with out pretrained embedding data. Just 200 samples from training. "
   ]
  },
  {
   "cell_type": "code",
   "execution_count": 41,
   "metadata": {},
   "outputs": [
    {
     "name": "stdout",
     "output_type": "stream",
     "text": [
      "Model: \"sequential_2\"\n",
      "_________________________________________________________________\n",
      "Layer (type)                 Output Shape              Param #   \n",
      "=================================================================\n",
      "embedding_3 (Embedding)      (None, 100, 100)          1000000   \n",
      "_________________________________________________________________\n",
      "flatten_2 (Flatten)          (None, 10000)             0         \n",
      "_________________________________________________________________\n",
      "dense_3 (Dense)              (None, 32)                320032    \n",
      "_________________________________________________________________\n",
      "dense_4 (Dense)              (None, 1)                 33        \n",
      "=================================================================\n",
      "Total params: 1,320,065\n",
      "Trainable params: 1,320,065\n",
      "Non-trainable params: 0\n",
      "_________________________________________________________________\n"
     ]
    }
   ],
   "source": [
    "model_without_pre_training = models.Sequential()\n",
    "model_without_pre_training.add(layers.Embedding(max_words, 100, input_length=maxlen))\n",
    "model_without_pre_training.add(layers.Flatten())\n",
    "model_without_pre_training.add(layers.Dense(32, activation='relu'))\n",
    "model_without_pre_training.add(layers.Dense(1, activation='sigmoid'))\n",
    "model_without_pre_training.summary()"
   ]
  },
  {
   "cell_type": "code",
   "execution_count": 42,
   "metadata": {},
   "outputs": [
    {
     "name": "stdout",
     "output_type": "stream",
     "text": [
      "Epoch 1/10\n",
      "7/7 [==============================] - 1s 67ms/step - loss: 0.6956 - acc: 0.5109 - val_loss: 0.6978 - val_acc: 0.5015\n",
      "Epoch 2/10\n",
      "7/7 [==============================] - 0s 54ms/step - loss: 0.5112 - acc: 0.9645 - val_loss: 0.7158 - val_acc: 0.5062\n",
      "Epoch 3/10\n",
      "7/7 [==============================] - 0s 42ms/step - loss: 0.2925 - acc: 0.9743 - val_loss: 0.7319 - val_acc: 0.5070\n",
      "Epoch 4/10\n",
      "7/7 [==============================] - 0s 42ms/step - loss: 0.1333 - acc: 0.9892 - val_loss: 0.7061 - val_acc: 0.5194\n",
      "Epoch 5/10\n",
      "7/7 [==============================] - 0s 52ms/step - loss: 0.0601 - acc: 1.0000 - val_loss: 0.7058 - val_acc: 0.5293\n",
      "Epoch 6/10\n",
      "7/7 [==============================] - 0s 51ms/step - loss: 0.0308 - acc: 1.0000 - val_loss: 0.7115 - val_acc: 0.5292\n",
      "Epoch 7/10\n",
      "7/7 [==============================] - 0s 43ms/step - loss: 0.0172 - acc: 1.0000 - val_loss: 0.7231 - val_acc: 0.5254\n",
      "Epoch 8/10\n",
      "7/7 [==============================] - 0s 53ms/step - loss: 0.0095 - acc: 1.0000 - val_loss: 0.7573 - val_acc: 0.5138\n",
      "Epoch 9/10\n",
      "7/7 [==============================] - 0s 50ms/step - loss: 0.0058 - acc: 1.0000 - val_loss: 0.7404 - val_acc: 0.5225\n",
      "Epoch 10/10\n",
      "7/7 [==============================] - 0s 46ms/step - loss: 0.0038 - acc: 1.0000 - val_loss: 0.7472 - val_acc: 0.5227\n"
     ]
    }
   ],
   "source": [
    "model_without_pre_training.compile(optimizer='rmsprop',\n",
    "              loss='binary_crossentropy',\n",
    "              metrics=['acc'])\n",
    "history_without_pretrained_embedding_data = model_without_pre_training.fit(x_train, y_train,\n",
    "                    epochs=10,\n",
    "                    batch_size=32,\n",
    "                    validation_data=(x_val, y_val))"
   ]
  },
  {
   "cell_type": "code",
   "execution_count": 43,
   "metadata": {},
   "outputs": [],
   "source": [
    "acc = history_without_pretrained_embedding_data.history['acc']\n",
    "val_acc = history_without_pretrained_embedding_data.history['val_acc']\n",
    "\n",
    "loss = history_without_pretrained_embedding_data.history['loss']\n",
    "val_loss = history_without_pretrained_embedding_data.history['val_loss']\n",
    "\n",
    "epochs = range(1, len(acc) + 1)"
   ]
  },
  {
   "cell_type": "code",
   "execution_count": 44,
   "metadata": {},
   "outputs": [
    {
     "data": {
      "image/png": "[encoded data removed]",
      "text/plain": [
       "<Figure size 432x288 with 1 Axes>"
      ]
     },
     "metadata": {
      "needs_background": "light"
     },
     "output_type": "display_data"
    }
   ],
   "source": [
    "plot_loss(loss, val_loss, epochs)"
   ]
  },
  {
   "cell_type": "code",
   "execution_count": 45,
   "metadata": {},
   "outputs": [
    {
     "data": {
      "image/png": "[encoded data removed]",
      "text/plain": [
       "<Figure size 432x288 with 1 Axes>"
      ]
     },
     "metadata": {
      "needs_background": "light"
     },
     "output_type": "display_data"
    }
   ],
   "source": [
    "plot_acc(acc, val_acc, epochs)"
   ]
  },
  {
   "cell_type": "markdown",
   "metadata": {},
   "source": [
    "The model is severely overfitting"
   ]
  },
  {
   "cell_type": "markdown",
   "metadata": {},
   "source": [
    "#### let’s evaluate the model on the test data. "
   ]
  },
  {
   "cell_type": "markdown",
   "metadata": {},
   "source": [
    "Tokenizing the data of the test set"
   ]
  },
  {
   "cell_type": "code",
   "execution_count": 46,
   "metadata": {},
   "outputs": [],
   "source": [
    "test_dir = os.path.join(imdb_dir, 'test')"
   ]
  },
  {
   "cell_type": "code",
   "execution_count": 47,
   "metadata": {},
   "outputs": [],
   "source": [
    "labels = []\n",
    "texts = []"
   ]
  },
  {
   "cell_type": "code",
   "execution_count": 48,
   "metadata": {},
   "outputs": [],
   "source": [
    "for label_type in ['neg', 'pos']:\n",
    "    dir_name = os.path.join(test_dir, label_type)\n",
    "    for fname in sorted(os.listdir(dir_name)):\n",
    "        if fname[-4:] == '.txt':\n",
    "            f = open(os.path.join(dir_name, fname))\n",
    "            texts.append(f.read())\n",
    "            f.close()\n",
    "            \n",
    "            if label_type == 'neg':\n",
    "                labels.append(0)\n",
    "            else:\n",
    "                labels.append(1)"
   ]
  },
  {
   "cell_type": "code",
   "execution_count": 49,
   "metadata": {},
   "outputs": [],
   "source": [
    "sequences = tokenizer.texts_to_sequences(texts)\n",
    "x_test = pad_sequences(sequences, maxlen=maxlen)\n",
    "y_test = np.asarray(labels)"
   ]
  },
  {
   "cell_type": "code",
   "execution_count": 50,
   "metadata": {},
   "outputs": [
    {
     "name": "stdout",
     "output_type": "stream",
     "text": [
      "782/782 [==============================] - 1s 1ms/step - loss: 0.8366 - acc: 0.5707\n"
     ]
    },
    {
     "data": {
      "text/plain": [
       "[0.836603045463562, 0.5707200169563293]"
      ]
     },
     "execution_count": 50,
     "metadata": {},
     "output_type": "execute_result"
    }
   ],
   "source": [
    "model.load_weights('pre_trained_glove_model.h5')\n",
    "model.evaluate(x_test, y_test)"
   ]
  },
  {
   "cell_type": "markdown",
   "metadata": {},
   "source": [
    "Got 56% accuracy working with just 200 samples. \n",
    "\n",
    "Adding more samples can decrease overfitting and increase accuracy."
   ]
  },
  {
   "cell_type": "markdown",
   "metadata": {},
   "source": [
    "# RNN"
   ]
  },
  {
   "cell_type": "code",
   "execution_count": 51,
   "metadata": {},
   "outputs": [],
   "source": [
    "tf.keras.backend.clear_session()"
   ]
  },
  {
   "cell_type": "markdown",
   "metadata": {},
   "source": [
    "Pre processing data"
   ]
  },
  {
   "cell_type": "code",
   "execution_count": 52,
   "metadata": {},
   "outputs": [],
   "source": [
    "max_features = 10000\n",
    "maxlen = 500\n",
    "batch_size = 32"
   ]
  },
  {
   "cell_type": "code",
   "execution_count": 53,
   "metadata": {},
   "outputs": [
    {
     "name": "stdout",
     "output_type": "stream",
     "text": [
      "Loading Data...\n"
     ]
    },
    {
     "name": "stderr",
     "output_type": "stream",
     "text": [
      "<string>:6: VisibleDeprecationWarning: Creating an ndarray from ragged nested sequences (which is a list-or-tuple of lists-or-tuples-or ndarrays with different lengths or shapes) is deprecated. If you meant to do this, you must specify 'dtype=object' when creating the ndarray\n",
      "/Users/sidparmar/opt/anaconda3/envs/ml/lib/python3.7/site-packages/tensorflow/python/keras/datasets/imdb.py:159: VisibleDeprecationWarning: Creating an ndarray from ragged nested sequences (which is a list-or-tuple of lists-or-tuples-or ndarrays with different lengths or shapes) is deprecated. If you meant to do this, you must specify 'dtype=object' when creating the ndarray\n",
      "  x_train, y_train = np.array(xs[:idx]), np.array(labels[:idx])\n"
     ]
    },
    {
     "name": "stdout",
     "output_type": "stream",
     "text": [
      "25000 train sequence\n",
      "25000 test sequence\n"
     ]
    },
    {
     "name": "stderr",
     "output_type": "stream",
     "text": [
      "/Users/sidparmar/opt/anaconda3/envs/ml/lib/python3.7/site-packages/tensorflow/python/keras/datasets/imdb.py:160: VisibleDeprecationWarning: Creating an ndarray from ragged nested sequences (which is a list-or-tuple of lists-or-tuples-or ndarrays with different lengths or shapes) is deprecated. If you meant to do this, you must specify 'dtype=object' when creating the ndarray\n",
      "  x_test, y_test = np.array(xs[idx:]), np.array(labels[idx:])\n"
     ]
    }
   ],
   "source": [
    "print('Loading Data...')\n",
    "(input_train, y_train), (input_test, y_test) = imdb.load_data(num_words=max_features)\n",
    "\n",
    "print(len(input_train), 'train sequence')\n",
    "print(len(input_test), 'test sequence')"
   ]
  },
  {
   "cell_type": "code",
   "execution_count": 54,
   "metadata": {},
   "outputs": [
    {
     "name": "stdout",
     "output_type": "stream",
     "text": [
      "Pad sequences (samples X times)\n",
      "input_train shape (25000, 500)\n",
      "input_test shape (25000, 500)\n"
     ]
    }
   ],
   "source": [
    "print('Pad sequences (samples X times)')\n",
    "input_train = sequence.pad_sequences(input_train, maxlen=maxlen)\n",
    "input_test = sequence.pad_sequences(input_test, maxlen=maxlen)\n",
    "\n",
    "print('input_train shape', input_train.shape)\n",
    "print('input_test shape', input_test.shape)"
   ]
  },
  {
   "cell_type": "markdown",
   "metadata": {},
   "source": [
    "### SimpleRNN"
   ]
  },
  {
   "cell_type": "code",
   "execution_count": 55,
   "metadata": {},
   "outputs": [],
   "source": [
    "model_with_simple_RNN = models.Sequential()\n",
    "model_with_simple_RNN.add(layers.Embedding(max_features, 32))\n",
    "model_with_simple_RNN.add(layers.SimpleRNN(32))\n",
    "model_with_simple_RNN.add(layers.Dense(1, activation='sigmoid'))"
   ]
  },
  {
   "cell_type": "code",
   "execution_count": 56,
   "metadata": {},
   "outputs": [],
   "source": [
    "model_with_simple_RNN.compile(loss=losses.binary_crossentropy, \n",
    "                              optimizer=optimizers.RMSprop(), \n",
    "                              metrics=['acc'])"
   ]
  },
  {
   "cell_type": "code",
   "execution_count": 57,
   "metadata": {},
   "outputs": [
    {
     "name": "stdout",
     "output_type": "stream",
     "text": [
      "Epoch 1/10\n",
      "157/157 [==============================] - 15s 88ms/step - loss: 0.6752 - acc: 0.5620 - val_loss: 0.5054 - val_acc: 0.7804\n",
      "Epoch 2/10\n",
      "157/157 [==============================] - 13s 85ms/step - loss: 0.4006 - acc: 0.8347 - val_loss: 0.4570 - val_acc: 0.8156\n",
      "Epoch 3/10\n",
      "157/157 [==============================] - 13s 85ms/step - loss: 0.2957 - acc: 0.8832 - val_loss: 0.3327 - val_acc: 0.8662\n",
      "Epoch 4/10\n",
      "157/157 [==============================] - 14s 89ms/step - loss: 0.2242 - acc: 0.9159 - val_loss: 0.3427 - val_acc: 0.8548\n",
      "Epoch 5/10\n",
      "157/157 [==============================] - 14s 89ms/step - loss: 0.1902 - acc: 0.9322 - val_loss: 0.3448 - val_acc: 0.8666\n",
      "Epoch 6/10\n",
      "157/157 [==============================] - 13s 84ms/step - loss: 0.1354 - acc: 0.9549 - val_loss: 0.3748 - val_acc: 0.8636\n",
      "Epoch 7/10\n",
      "157/157 [==============================] - 13s 84ms/step - loss: 0.1054 - acc: 0.9634 - val_loss: 0.3901 - val_acc: 0.8742\n",
      "Epoch 8/10\n",
      "157/157 [==============================] - 13s 84ms/step - loss: 0.0620 - acc: 0.9831 - val_loss: 0.4416 - val_acc: 0.8618\n",
      "Epoch 9/10\n",
      "157/157 [==============================] - 13s 85ms/step - loss: 0.0429 - acc: 0.9876 - val_loss: 0.5029 - val_acc: 0.8334\n",
      "Epoch 10/10\n",
      "157/157 [==============================] - 13s 84ms/step - loss: 0.0305 - acc: 0.9914 - val_loss: 0.6408 - val_acc: 0.7820\n"
     ]
    }
   ],
   "source": [
    "history_with_simple_RNN = model_with_simple_RNN.fit(input_train, y_train, \n",
    "                                                    epochs=10, \n",
    "                                                    batch_size=128, \n",
    "                                                    validation_split=0.2)"
   ]
  },
  {
   "cell_type": "code",
   "execution_count": 58,
   "metadata": {},
   "outputs": [],
   "source": [
    "acc = history_with_simple_RNN.history['acc']\n",
    "val_acc = history_with_simple_RNN.history['val_acc']\n",
    "\n",
    "loss = history_with_simple_RNN.history['loss']\n",
    "val_loss = history_with_simple_RNN.history['val_loss']\n",
    "\n",
    "epochs = range(1, len(acc) + 1)"
   ]
  },
  {
   "cell_type": "code",
   "execution_count": 59,
   "metadata": {},
   "outputs": [
    {
     "data": {
      "image/png": "[encoded data removed]",
      "text/plain": [
       "<Figure size 432x288 with 1 Axes>"
      ]
     },
     "metadata": {
      "needs_background": "light"
     },
     "output_type": "display_data"
    }
   ],
   "source": [
    "plot_loss(loss, val_loss, epochs)"
   ]
  },
  {
   "cell_type": "code",
   "execution_count": 60,
   "metadata": {},
   "outputs": [
    {
     "data": {
      "image/png": "[encoded data removed]",
      "text/plain": [
       "<Figure size 432x288 with 1 Axes>"
      ]
     },
     "metadata": {
      "needs_background": "light"
     },
     "output_type": "display_data"
    }
   ],
   "source": [
    "plot_acc(acc, val_acc, epochs)"
   ]
  },
  {
   "cell_type": "markdown",
   "metadata": {},
   "source": [
    "As a reminder, in chapter 3, the first naive approach to this dataset got you to a test accuracy of 88%. Unfortunately, this small recurrent network doesn’t perform well compared to this baseline (only 82% validation accuracy). Part of the problem is that your inputs only consider the first 500 words, rather than full sequences—hence, the RNN has access to less information than the earlier baseline model. The remainder of the problem is that SimpleRNN isn’t good at processing long sequences, such as text. Other types of recurrent layers perform much better. "
   ]
  },
  {
   "cell_type": "markdown",
   "metadata": {},
   "source": [
    "### LSTM"
   ]
  },
  {
   "cell_type": "code",
   "execution_count": 61,
   "metadata": {},
   "outputs": [],
   "source": [
    "model_with_LSTM = models.Sequential()\n",
    "model_with_LSTM.add(layers.Embedding(max_features, 32))\n",
    "model_with_LSTM.add(layers.LSTM(32))\n",
    "model_with_LSTM.add(layers.Dense(1, activation=\"sigmoid\"))"
   ]
  },
  {
   "cell_type": "code",
   "execution_count": 62,
   "metadata": {},
   "outputs": [],
   "source": [
    "model_with_LSTM.compile(loss=losses.binary_crossentropy, \n",
    "                        optimizer=optimizers.RMSprop(), \n",
    "                        metrics=['acc'])"
   ]
  },
  {
   "cell_type": "code",
   "execution_count": 63,
   "metadata": {},
   "outputs": [
    {
     "name": "stdout",
     "output_type": "stream",
     "text": [
      "Epoch 1/10\n",
      "157/157 [==============================] - 26s 160ms/step - loss: 0.6109 - acc: 0.6730 - val_loss: 0.3586 - val_acc: 0.8586\n",
      "Epoch 2/10\n",
      "157/157 [==============================] - 22s 143ms/step - loss: 0.2923 - acc: 0.8889 - val_loss: 0.2899 - val_acc: 0.8848\n",
      "Epoch 3/10\n",
      "157/157 [==============================] - 22s 142ms/step - loss: 0.2327 - acc: 0.9134 - val_loss: 0.6563 - val_acc: 0.7726\n",
      "Epoch 4/10\n",
      "157/157 [==============================] - 22s 143ms/step - loss: 0.2114 - acc: 0.9256 - val_loss: 0.3542 - val_acc: 0.8812\n",
      "Epoch 5/10\n",
      "157/157 [==============================] - 23s 145ms/step - loss: 0.1742 - acc: 0.9370 - val_loss: 0.3512 - val_acc: 0.8726\n",
      "Epoch 6/10\n",
      "157/157 [==============================] - 23s 147ms/step - loss: 0.1515 - acc: 0.9475 - val_loss: 0.2952 - val_acc: 0.8826\n",
      "Epoch 7/10\n",
      "157/157 [==============================] - 23s 144ms/step - loss: 0.1334 - acc: 0.9528 - val_loss: 0.3395 - val_acc: 0.8844\n",
      "Epoch 8/10\n",
      "157/157 [==============================] - 25s 159ms/step - loss: 0.1241 - acc: 0.9588 - val_loss: 0.3768 - val_acc: 0.8758\n",
      "Epoch 9/10\n",
      "157/157 [==============================] - 27s 173ms/step - loss: 0.1169 - acc: 0.9598 - val_loss: 0.3932 - val_acc: 0.8744\n",
      "Epoch 10/10\n",
      "157/157 [==============================] - 25s 159ms/step - loss: 0.1066 - acc: 0.9650 - val_loss: 0.5187 - val_acc: 0.8240\n"
     ]
    }
   ],
   "source": [
    "history_with_LSTM = model_with_LSTM.fit(input_train, y_train, \n",
    "                                        epochs=10, \n",
    "                                        batch_size=128, \n",
    "                                        validation_split=0.2)"
   ]
  },
  {
   "cell_type": "code",
   "execution_count": 64,
   "metadata": {},
   "outputs": [],
   "source": [
    "acc = history_with_LSTM.history['acc']\n",
    "val_acc = history_with_LSTM.history['val_acc']\n",
    "\n",
    "loss = history_with_LSTM.history['loss']\n",
    "val_loss = history_with_LSTM.history['val_loss']\n",
    "\n",
    "epochs = range(1, len(acc) + 1)"
   ]
  },
  {
   "cell_type": "code",
   "execution_count": 65,
   "metadata": {},
   "outputs": [
    {
     "data": {
      "image/png": "[encoded data removed]",
      "text/plain": [
       "<Figure size 432x288 with 1 Axes>"
      ]
     },
     "metadata": {
      "needs_background": "light"
     },
     "output_type": "display_data"
    }
   ],
   "source": [
    "plot_loss(loss, val_loss, epochs)"
   ]
  },
  {
   "cell_type": "code",
   "execution_count": 66,
   "metadata": {},
   "outputs": [
    {
     "data": {
      "image/png": "[encoded data removed]",
      "text/plain": [
       "<Figure size 432x288 with 1 Axes>"
      ]
     },
     "metadata": {
      "needs_background": "light"
     },
     "output_type": "display_data"
    }
   ],
   "source": [
    "plot_acc(acc, val_acc, epochs)"
   ]
  },
  {
   "cell_type": "markdown",
   "metadata": {},
   "source": [
    "This time, you achieve up to ~88% validation accuracy. Not bad: certainly much better than the SimpleRNN network—that’s largely because LSTM suffers much less from the vanishing-gradient problem—and slightly better than the fully connected approach from chapter 3, even though you’re looking at less data than you were in chapter 3. You’re truncating sequences after 500 timesteps, whereas in chapter 3, you were considering full sequences."
   ]
  },
  {
   "cell_type": "markdown",
   "metadata": {},
   "source": [
    "# Jenna Climate - Weather Model"
   ]
  },
  {
   "cell_type": "code",
   "execution_count": 67,
   "metadata": {},
   "outputs": [],
   "source": [
    "data_dir = '/Users/sidparmar/workspace-ml/deep-learning-with-python/jena_climate'\n",
    "f_name = os.path.join(data_dir, 'jena_climate_2009_2016.csv')"
   ]
  },
  {
   "cell_type": "code",
   "execution_count": 68,
   "metadata": {},
   "outputs": [],
   "source": [
    "f = open(f_name)\n",
    "data = f.read()\n",
    "f.close()"
   ]
  },
  {
   "cell_type": "code",
   "execution_count": 69,
   "metadata": {},
   "outputs": [],
   "source": [
    "lines = data.split('\\n')\n",
    "header = lines[0].split(',')\n",
    "lines = lines[1:]"
   ]
  },
  {
   "cell_type": "code",
   "execution_count": 70,
   "metadata": {},
   "outputs": [
    {
     "data": {
      "text/plain": [
       "['\"Date Time\"',\n",
       " '\"p (mbar)\"',\n",
       " '\"T (degC)\"',\n",
       " '\"Tpot (K)\"',\n",
       " '\"Tdew (degC)\"',\n",
       " '\"rh (%)\"',\n",
       " '\"VPmax (mbar)\"',\n",
       " '\"VPact (mbar)\"',\n",
       " '\"VPdef (mbar)\"',\n",
       " '\"sh (g/kg)\"',\n",
       " '\"H2OC (mmol/mol)\"',\n",
       " '\"rho (g/m**3)\"',\n",
       " '\"wv (m/s)\"',\n",
       " '\"max. wv (m/s)\"',\n",
       " '\"wd (deg)\"']"
      ]
     },
     "execution_count": 70,
     "metadata": {},
     "output_type": "execute_result"
    }
   ],
   "source": [
    "header"
   ]
  },
  {
   "cell_type": "code",
   "execution_count": 71,
   "metadata": {},
   "outputs": [
    {
     "data": {
      "text/plain": [
       "420451"
      ]
     },
     "execution_count": 71,
     "metadata": {},
     "output_type": "execute_result"
    }
   ],
   "source": [
    "len(lines)"
   ]
  },
  {
   "cell_type": "markdown",
   "metadata": {},
   "source": [
    "Now convert all 420,451 lines into a numpy array"
   ]
  },
  {
   "cell_type": "code",
   "execution_count": 72,
   "metadata": {},
   "outputs": [],
   "source": [
    "float_data = np.zeros((len(lines), len(header) - 1))\n",
    "for i, line in enumerate(lines):\n",
    "    values = [float(x) for x in line.split(',')[1:]]\n",
    "    float_data[i, :] = values"
   ]
  },
  {
   "cell_type": "markdown",
   "metadata": {},
   "source": [
    "### Temp graph"
   ]
  },
  {
   "cell_type": "code",
   "execution_count": 73,
   "metadata": {},
   "outputs": [
    {
     "data": {
      "text/plain": [
       "[<matplotlib.lines.Line2D at 0x7fbcee64f9d0>]"
      ]
     },
     "execution_count": 73,
     "metadata": {},
     "output_type": "execute_result"
    },
    {
     "data": {
      "image/png": "[encoded data removed]",
      "text/plain": [
       "<Figure size 432x288 with 1 Axes>"
      ]
     },
     "metadata": {
      "needs_background": "light"
     },
     "output_type": "display_data"
    }
   ],
   "source": [
    "temp = float_data[:, 1]\n",
    "plt.plot(range(len(temp)), temp)"
   ]
  },
  {
   "cell_type": "markdown",
   "metadata": {},
   "source": [
    "Here is the same plot for only first 10 days. Since the data is recorded every 10 mins, we have 144 data points per day."
   ]
  },
  {
   "cell_type": "code",
   "execution_count": 74,
   "metadata": {},
   "outputs": [
    {
     "data": {
      "text/plain": [
       "[<matplotlib.lines.Line2D at 0x7fbcee88c110>]"
      ]
     },
     "execution_count": 74,
     "metadata": {},
     "output_type": "execute_result"
    },
    {
     "data": {
      "image/png": "[encoded data removed]",
      "text/plain": [
       "<Figure size 432x288 with 1 Axes>"
      ]
     },
     "metadata": {
      "needs_background": "light"
     },
     "output_type": "display_data"
    }
   ],
   "source": [
    "plt.plot(range(1440), temp[:1440])"
   ]
  },
  {
   "cell_type": "markdown",
   "metadata": {},
   "source": [
    "The exact formulation of the problem will be as follows: given data going as far back as lookback timesteps (a timestep is 10 minutes) and sampled every steps timesteps, can you predict the temperature in delay timesteps? You’ll use the following parameter values:\n",
    "\n",
    "- lookback = 720—Observations will go back 5 days.\n",
    "- steps = 6—Observations will be sampled at one data point per hour.\n",
    "- delay = 144—Targets will be 24 hours in the future.\n"
   ]
  },
  {
   "cell_type": "markdown",
   "metadata": {},
   "source": [
    "### Preparing Data"
   ]
  },
  {
   "cell_type": "markdown",
   "metadata": {},
   "source": [
    "Let's normalize training data - first 200,000 samples"
   ]
  },
  {
   "cell_type": "code",
   "execution_count": 75,
   "metadata": {},
   "outputs": [],
   "source": [
    "mean = float_data[:200000].mean(axis=0)\n",
    "float_data -= mean\n",
    "std = float_data[:200000].std(axis=0)\n",
    "float_data /= std"
   ]
  },
  {
   "cell_type": "markdown",
   "metadata": {},
   "source": [
    "This is the data generator you’ll use. It yields a tuple (samples, targets), where samples is one batch of input data and targets is the corresponding array of target temperatures. It takes the following arguments:\n",
    "\n",
    "- data—The original array of floating-point data, which you normalized above.\n",
    "- lookback—How many timesteps back the input data should go.\n",
    "- delay—How many timesteps in the future the target should be.\n",
    "- min_index and max_index—Indices in the data array that delimit which timesteps to draw from. This is useful for keeping a segment of the data for validation and another for testing.\n",
    "- shuffle—Whether to shuffle the samples or draw them in chronological order.\n",
    "- batch_size—The number of samples per batch.\n",
    "- step—The period, in timesteps, at which you sample data. You’ll set it to 6 in order to draw one data point every hour."
   ]
  },
  {
   "cell_type": "code",
   "execution_count": 76,
   "metadata": {},
   "outputs": [],
   "source": [
    "def generator(data, lookback, delay, min_index, max_index,\n",
    "              shuffle=False, batch_size=128, step=6):\n",
    "    if max_index is None:\n",
    "        max_index = len(data) - delay - 1\n",
    "    i = min_index + lookback\n",
    "    while 1:\n",
    "        if shuffle:\n",
    "            rows = np.random.randint(\n",
    "                min_index + lookback, max_index, size=batch_size)\n",
    "        else:\n",
    "            if i + batch_size >= max_index:\n",
    "                i = min_index + lookback\n",
    "            rows = np.arange(i, min(i + batch_size, max_index))\n",
    "            i += len(rows)\n",
    "\n",
    "        samples = np.zeros((len(rows),\n",
    "                           lookback // step,\n",
    "                           data.shape[-1]))\n",
    "        targets = np.zeros((len(rows),))\n",
    "        for j, row in enumerate(rows):\n",
    "            indices = range(rows[j] - lookback, rows[j], step)\n",
    "            samples[j] = data[indices]\n",
    "            targets[j] = data[rows[j] + delay][1]\n",
    "        yield samples, targets"
   ]
  },
  {
   "cell_type": "markdown",
   "metadata": {},
   "source": [
    "Preparing the training, validation, and test generators"
   ]
  },
  {
   "cell_type": "code",
   "execution_count": 77,
   "metadata": {},
   "outputs": [],
   "source": [
    "lookback = 1440\n",
    "step = 6\n",
    "delay = 144\n",
    "batch_size = 128\n",
    "train_gen = generator(float_data,\n",
    "                      lookback=lookback,\n",
    "                      delay=delay,\n",
    "                      min_index=0,\n",
    "                      max_index=200000,\n",
    "                      shuffle=True,\n",
    "                      step=step,\n",
    "                      batch_size=batch_size)\n",
    "val_gen = generator(float_data,\n",
    "                    lookback=lookback,\n",
    "                    delay=delay,\n",
    "                    min_index=200001,\n",
    "                    max_index=300000,\n",
    "                    step=step,\n",
    "                    batch_size=batch_size)\n",
    "test_gen = generator(float_data,\n",
    "                     lookback=lookback,\n",
    "                     delay=delay,\n",
    "                     min_index=300001,\n",
    "                     max_index=None,\n",
    "                     step=step,\n",
    "                     batch_size=batch_size)\n",
    "\n",
    "val_steps = (300000 - 200001 - lookback)\n",
    "\n",
    "test_steps = (len(float_data) - 300001 - lookback)"
   ]
  },
  {
   "cell_type": "markdown",
   "metadata": {},
   "source": [
    "###  Computing the common-sense baseline MAE"
   ]
  },
  {
   "cell_type": "code",
   "execution_count": 78,
   "metadata": {},
   "outputs": [],
   "source": [
    "def evaluate_naive_method():\n",
    "    batch_maes = []\n",
    "    for step in range(val_steps):\n",
    "        samples, targets = next(val_gen)\n",
    "        preds = samples[:, -1, 1]\n",
    "        mae = np.mean(np.abs(preds - targets))\n",
    "        batch_maes.append(mae)\n",
    "    print(np.mean(batch_maes))"
   ]
  },
  {
   "cell_type": "code",
   "execution_count": 79,
   "metadata": {},
   "outputs": [
    {
     "name": "stdout",
     "output_type": "stream",
     "text": [
      "0.28969941979609765\n"
     ]
    }
   ],
   "source": [
    "evaluate_naive_method()"
   ]
  },
  {
   "cell_type": "markdown",
   "metadata": {},
   "source": [
    "This yields an MAE of 0.29. Because the temperature data has been normalized to be centered on 0 and have a standard deviation of 1, this number isn’t immediately interpretable. It translates to an average absolute error of 0.29 × temperature_std degrees Celsius: 2.57°C."
   ]
  },
  {
   "cell_type": "markdown",
   "metadata": {},
   "source": [
    "####  A basic machine-learning approach"
   ]
  },
  {
   "cell_type": "code",
   "execution_count": 80,
   "metadata": {},
   "outputs": [],
   "source": [
    "dense_weather_model = models.Sequential()\n",
    "dense_weather_model.add(layers.Flatten(input_shape=(lookback // step, float_data.shape[-1])))\n",
    "dense_weather_model.add(layers.Dense(32, activation=\"relu\"))\n",
    "dense_weather_model.add(layers.Dense(1))"
   ]
  },
  {
   "cell_type": "code",
   "execution_count": 81,
   "metadata": {},
   "outputs": [],
   "source": [
    "dense_weather_model.compile(loss=losses.mae, optimizer=optimizers.RMSprop())"
   ]
  },
  {
   "cell_type": "code",
   "execution_count": 82,
   "metadata": {},
   "outputs": [
    {
     "name": "stdout",
     "output_type": "stream",
     "text": [
      "Epoch 1/20\n",
      "500/500 [==============================] - 662s 1s/step - loss: 1.9986 - val_loss: 1.1156\n",
      "Epoch 2/20\n",
      "500/500 [==============================] - 655s 1s/step - loss: 0.6367 - val_loss: 0.3980\n",
      "Epoch 3/20\n",
      "500/500 [==============================] - 569s 1s/step - loss: 0.3306 - val_loss: 0.3626\n",
      "Epoch 4/20\n",
      "500/500 [==============================] - 599s 1s/step - loss: 0.2779 - val_loss: 0.3126\n",
      "Epoch 5/20\n",
      "500/500 [==============================] - 570s 1s/step - loss: 0.2573 - val_loss: 0.3281\n",
      "Epoch 6/20\n",
      "500/500 [==============================] - 571s 1s/step - loss: 0.2484 - val_loss: 0.3119\n",
      "Epoch 7/20\n",
      "500/500 [==============================] - 572s 1s/step - loss: 0.2421 - val_loss: 0.3065\n",
      "Epoch 8/20\n",
      "500/500 [==============================] - 5622s 11s/step - loss: 0.2372 - val_loss: 0.3340\n",
      "Epoch 9/20\n",
      "500/500 [==============================] - 639s 1s/step - loss: 0.2293 - val_loss: 0.3052\n",
      "Epoch 10/20\n",
      "500/500 [==============================] - 691s 1s/step - loss: 0.2273 - val_loss: 0.3141\n",
      "Epoch 11/20\n",
      "500/500 [==============================] - 595s 1s/step - loss: 0.2237 - val_loss: 0.3254\n",
      "Epoch 12/20\n",
      "500/500 [==============================] - 570s 1s/step - loss: 0.2220 - val_loss: 0.3294\n",
      "Epoch 13/20\n",
      "500/500 [==============================] - 570s 1s/step - loss: 0.2182 - val_loss: 0.3142\n",
      "Epoch 14/20\n",
      "500/500 [==============================] - 569s 1s/step - loss: 0.2141 - val_loss: 0.3188\n",
      "Epoch 15/20\n",
      "500/500 [==============================] - 569s 1s/step - loss: 0.2115 - val_loss: 0.3361\n",
      "Epoch 16/20\n",
      "500/500 [==============================] - 571s 1s/step - loss: 0.2097 - val_loss: 0.3203\n",
      "Epoch 17/20\n",
      "500/500 [==============================] - 568s 1s/step - loss: 0.2086 - val_loss: 0.3213\n",
      "Epoch 18/20\n",
      "500/500 [==============================] - 567s 1s/step - loss: 0.2058 - val_loss: 0.3282\n",
      "Epoch 19/20\n",
      "500/500 [==============================] - 569s 1s/step - loss: 0.2050 - val_loss: 0.3323\n",
      "Epoch 20/20\n",
      "500/500 [==============================] - 569s 1s/step - loss: 0.2035 - val_loss: 0.3223\n"
     ]
    }
   ],
   "source": [
    "dense_weather_history = dense_weather_model.fit(train_gen,\n",
    "                              steps_per_epoch=500,\n",
    "                              epochs=20,\n",
    "                              validation_data=val_gen,\n",
    "                              validation_steps=val_steps)"
   ]
  },
  {
   "cell_type": "code",
   "execution_count": 85,
   "metadata": {},
   "outputs": [],
   "source": [
    "loss = dense_weather_history.history['loss']\n",
    "val_loss = dense_weather_history.history['val_loss']\n",
    "\n",
    "epochs = range(1, len(loss) + 1)"
   ]
  },
  {
   "cell_type": "code",
   "execution_count": 86,
   "metadata": {},
   "outputs": [
    {
     "data": {
      "image/png": "[encoded data removed]",
      "text/plain": [
       "<Figure size 432x288 with 1 Axes>"
      ]
     },
     "metadata": {
      "needs_background": "light"
     },
     "output_type": "display_data"
    }
   ],
   "source": [
    "plot_loss(loss, val_loss, epochs)"
   ]
  },
  {
   "cell_type": "markdown",
   "metadata": {},
   "source": [
    "Validation loss is higher than base line loss. That just means that this network learned nothing."
   ]
  },
  {
   "cell_type": "markdown",
   "metadata": {},
   "source": [
    "#### First RNN baseline"
   ]
  },
  {
   "cell_type": "code",
   "execution_count": 87,
   "metadata": {},
   "outputs": [],
   "source": [
    "rnn_baseline_model = models.Sequential()\n",
    "rnn_baseline_model.add(layers.GRU(32, input_shape=(None, float_data.shape[-1])))\n",
    "rnn_baseline_model.add(layers.Dense(1))"
   ]
  },
  {
   "cell_type": "code",
   "execution_count": 88,
   "metadata": {},
   "outputs": [],
   "source": [
    "rnn_baseline_model.compile(loss=losses.mae, optimizer=optimizers.RMSprop())"
   ]
  },
  {
   "cell_type": "code",
   "execution_count": 89,
   "metadata": {},
   "outputs": [
    {
     "name": "stdout",
     "output_type": "stream",
     "text": [
      "Epoch 1/20\n",
      "500/500 [==============================] - 1469s 3s/step - loss: 0.3188 - val_loss: 0.2692\n",
      "Epoch 2/20\n",
      "500/500 [==============================] - 1486s 3s/step - loss: 0.2851 - val_loss: 0.2649\n",
      "Epoch 3/20\n",
      "500/500 [==============================] - 1464s 3s/step - loss: 0.2780 - val_loss: 0.2698\n",
      "Epoch 4/20\n",
      "500/500 [==============================] - 1458s 3s/step - loss: 0.2706 - val_loss: 0.2647\n",
      "Epoch 5/20\n",
      "500/500 [==============================] - 1441s 3s/step - loss: 0.2664 - val_loss: 0.2691\n",
      "Epoch 6/20\n",
      "500/500 [==============================] - 1439s 3s/step - loss: 0.2636 - val_loss: 0.2688\n",
      "Epoch 7/20\n",
      "500/500 [==============================] - 1447s 3s/step - loss: 0.2566 - val_loss: 0.2766\n",
      "Epoch 8/20\n",
      "500/500 [==============================] - 1466s 3s/step - loss: 0.2511 - val_loss: 0.2735\n",
      "Epoch 9/20\n",
      "500/500 [==============================] - 1447s 3s/step - loss: 0.2487 - val_loss: 0.2732\n",
      "Epoch 10/20\n",
      "500/500 [==============================] - 1456s 3s/step - loss: 0.2454 - val_loss: 0.2740\n",
      "Epoch 11/20\n",
      "500/500 [==============================] - 1473s 3s/step - loss: 0.2386 - val_loss: 0.2839\n",
      "Epoch 12/20\n",
      "500/500 [==============================] - 1463s 3s/step - loss: 0.2352 - val_loss: 0.2789\n",
      "Epoch 13/20\n",
      "500/500 [==============================] - 1474s 3s/step - loss: 0.2311 - val_loss: 0.2831\n",
      "Epoch 14/20\n",
      "500/500 [==============================] - 1461s 3s/step - loss: 0.2263 - val_loss: 0.2854\n",
      "Epoch 15/20\n",
      "500/500 [==============================] - 1465s 3s/step - loss: 0.2228 - val_loss: 0.2872\n",
      "Epoch 16/20\n",
      "500/500 [==============================] - 1467s 3s/step - loss: 0.2201 - val_loss: 0.2879\n",
      "Epoch 17/20\n",
      "500/500 [==============================] - 1462s 3s/step - loss: 0.2200 - val_loss: 0.2923\n",
      "Epoch 18/20\n",
      "500/500 [==============================] - 1470s 3s/step - loss: 0.2135 - val_loss: 0.2914\n",
      "Epoch 19/20\n",
      "500/500 [==============================] - 1470s 3s/step - loss: 0.2109 - val_loss: 0.3006\n",
      "Epoch 20/20\n",
      "500/500 [==============================] - 1463s 3s/step - loss: 0.2065 - val_loss: 0.2977\n"
     ]
    }
   ],
   "source": [
    "history_rnn_baseline = rnn_baseline_model.fit(train_gen, \n",
    "                                              steps_per_epoch=500, \n",
    "                                              epochs=20, \n",
    "                                              validation_data=val_gen, \n",
    "                                              validation_steps=val_steps)"
   ]
  },
  {
   "cell_type": "code",
   "execution_count": 90,
   "metadata": {},
   "outputs": [],
   "source": [
    "loss = history_rnn_baseline.history['loss']\n",
    "val_loss = history_rnn_baseline.history['val_loss']\n",
    "\n",
    "epochs = range(1, len(loss) + 1)"
   ]
  },
  {
   "cell_type": "code",
   "execution_count": 91,
   "metadata": {},
   "outputs": [
    {
     "data": {
      "image/png": "[encoded data removed]",
      "text/plain": [
       "<Figure size 432x288 with 1 Axes>"
      ]
     },
     "metadata": {
      "needs_background": "light"
     },
     "output_type": "display_data"
    }
   ],
   "source": [
    "plot_loss(loss, val_loss, epochs)"
   ]
  },
  {
   "cell_type": "markdown",
   "metadata": {},
   "source": [
    "This model is overfitting. But in the beginning it did better than the dense model and simple baseline. \n",
    "\n",
    "There is bit margin of improvement. "
   ]
  },
  {
   "cell_type": "markdown",
   "metadata": {},
   "source": [
    "#### Using recurrent dropout to fight overfitting"
   ]
  },
  {
   "cell_type": "code",
   "execution_count": 92,
   "metadata": {},
   "outputs": [],
   "source": [
    "model_rnn_dropout = models.Sequential()\n",
    "model_rnn_dropout.add(layers.GRU(32, \n",
    "                                 dropout=0.2, \n",
    "                                 recurrent_dropout=0.2, \n",
    "                                 input_shape=(None, float_data.shape[-1])))\n",
    "model_rnn_dropout.add(layers.Dense(1))"
   ]
  },
  {
   "cell_type": "code",
   "execution_count": 93,
   "metadata": {},
   "outputs": [],
   "source": [
    "model_rnn_dropout.compile(optimizer=optimizers.RMSprop(), loss=losses.mae)"
   ]
  },
  {
   "cell_type": "code",
   "execution_count": 94,
   "metadata": {},
   "outputs": [
    {
     "name": "stdout",
     "output_type": "stream",
     "text": [
      "Epoch 1/40\n",
      "500/500 [==============================] - 1625s 3s/step - loss: 0.3715 - val_loss: 0.3067\n",
      "Epoch 2/40\n",
      "500/500 [==============================] - 1631s 3s/step - loss: 0.3086 - val_loss: 0.2770\n",
      "Epoch 3/40\n",
      "500/500 [==============================] - 1610s 3s/step - loss: 0.2989 - val_loss: 0.2704\n",
      "Epoch 4/40\n",
      "500/500 [==============================] - 1609s 3s/step - loss: 0.2968 - val_loss: 0.2740\n",
      "Epoch 5/40\n",
      "500/500 [==============================] - 1649s 3s/step - loss: 0.2927 - val_loss: 0.2720\n",
      "Epoch 6/40\n",
      "500/500 [==============================] - 1647s 3s/step - loss: 0.2903 - val_loss: 0.2673\n",
      "Epoch 7/40\n",
      "500/500 [==============================] - 1648s 3s/step - loss: 0.2860 - val_loss: 0.2695\n",
      "Epoch 8/40\n",
      "500/500 [==============================] - 1640s 3s/step - loss: 0.2819 - val_loss: 0.2688\n",
      "Epoch 9/40\n",
      "500/500 [==============================] - 1639s 3s/step - loss: 0.2825 - val_loss: 0.2682\n",
      "Epoch 10/40\n",
      "500/500 [==============================] - 1638s 3s/step - loss: 0.2764 - val_loss: 0.2724\n",
      "Epoch 11/40\n",
      "500/500 [==============================] - 1633s 3s/step - loss: 0.2763 - val_loss: 0.2705\n",
      "Epoch 12/40\n",
      "500/500 [==============================] - 1630s 3s/step - loss: 0.2717 - val_loss: 0.2695\n",
      "Epoch 13/40\n",
      "500/500 [==============================] - 1621s 3s/step - loss: 0.2699 - val_loss: 0.2702\n",
      "Epoch 14/40\n",
      "500/500 [==============================] - 1628s 3s/step - loss: 0.2656 - val_loss: 0.2714\n",
      "Epoch 15/40\n",
      "500/500 [==============================] - 1623s 3s/step - loss: 0.2675 - val_loss: 0.2717\n",
      "Epoch 16/40\n",
      "500/500 [==============================] - 1617s 3s/step - loss: 0.2620 - val_loss: 0.2744\n",
      "Epoch 17/40\n",
      "500/500 [==============================] - 1639s 3s/step - loss: 0.2626 - val_loss: 0.2762\n",
      "Epoch 18/40\n",
      "500/500 [==============================] - 1619s 3s/step - loss: 0.2589 - val_loss: 0.2761\n",
      "Epoch 19/40\n",
      "500/500 [==============================] - 1612s 3s/step - loss: 0.2572 - val_loss: 0.2740\n",
      "Epoch 20/40\n",
      "500/500 [==============================] - 1612s 3s/step - loss: 0.2564 - val_loss: 0.2772\n",
      "Epoch 21/40\n",
      "500/500 [==============================] - 1612s 3s/step - loss: 0.2563 - val_loss: 0.2821\n",
      "Epoch 22/40\n",
      "500/500 [==============================] - 1614s 3s/step - loss: 0.2514 - val_loss: 0.2867\n",
      "Epoch 23/40\n",
      "500/500 [==============================] - 1610s 3s/step - loss: 0.2516 - val_loss: 0.2890\n",
      "Epoch 24/40\n",
      "500/500 [==============================] - 1613s 3s/step - loss: 0.2502 - val_loss: 0.2840\n",
      "Epoch 25/40\n",
      "500/500 [==============================] - 1611s 3s/step - loss: 0.2480 - val_loss: 0.2853\n",
      "Epoch 26/40\n",
      "500/500 [==============================] - 1615s 3s/step - loss: 0.2451 - val_loss: 0.2922\n",
      "Epoch 27/40\n",
      "500/500 [==============================] - 1615s 3s/step - loss: 0.2433 - val_loss: 0.2970\n",
      "Epoch 28/40\n",
      "500/500 [==============================] - 1621s 3s/step - loss: 0.2434 - val_loss: 0.3048\n",
      "Epoch 29/40\n",
      "500/500 [==============================] - 1617s 3s/step - loss: 0.2408 - val_loss: 0.2899\n",
      "Epoch 30/40\n",
      "500/500 [==============================] - 1611s 3s/step - loss: 0.2384 - val_loss: 0.2907\n",
      "Epoch 31/40\n",
      "500/500 [==============================] - 1610s 3s/step - loss: 0.2381 - val_loss: 0.2960\n",
      "Epoch 32/40\n",
      "500/500 [==============================] - 1614s 3s/step - loss: 0.2398 - val_loss: 0.3015\n",
      "Epoch 33/40\n",
      "500/500 [==============================] - 1616s 3s/step - loss: 0.2367 - val_loss: 0.2970\n",
      "Epoch 34/40\n",
      "500/500 [==============================] - 1608s 3s/step - loss: 0.2348 - val_loss: 0.2987\n",
      "Epoch 35/40\n",
      "500/500 [==============================] - 1612s 3s/step - loss: 0.2347 - val_loss: 0.3040\n",
      "Epoch 36/40\n",
      "500/500 [==============================] - 1610s 3s/step - loss: 0.2344 - val_loss: 0.2930\n",
      "Epoch 37/40\n",
      "500/500 [==============================] - 1609s 3s/step - loss: 0.2324 - val_loss: 0.2975\n",
      "Epoch 38/40\n",
      "500/500 [==============================] - 1606s 3s/step - loss: 0.2305 - val_loss: 0.3028\n",
      "Epoch 39/40\n",
      "500/500 [==============================] - 1607s 3s/step - loss: 0.2308 - val_loss: 0.3029\n",
      "Epoch 40/40\n",
      "500/500 [==============================] - 1606s 3s/step - loss: 0.2292 - val_loss: 0.3032\n"
     ]
    }
   ],
   "source": [
    "history_rnn_dropout = model_rnn_dropout.fit(train_gen, \n",
    "                                            steps_per_epoch=500, \n",
    "                                            epochs=40, \n",
    "                                            validation_data=val_gen, \n",
    "                                            validation_steps=val_steps)"
   ]
  },
  {
   "cell_type": "code",
   "execution_count": 95,
   "metadata": {},
   "outputs": [],
   "source": [
    "loss = history_rnn_dropout.history['loss']\n",
    "val_loss = history_rnn_dropout.history['val_loss']\n",
    "\n",
    "epochs = range(1, len(loss) + 1)"
   ]
  },
  {
   "cell_type": "code",
   "execution_count": 96,
   "metadata": {},
   "outputs": [
    {
     "data": {
      "image/png": "[encoded data removed]",
      "text/plain": [
       "<Figure size 432x288 with 1 Axes>"
      ]
     },
     "metadata": {
      "needs_background": "light"
     },
     "output_type": "display_data"
    }
   ],
   "source": [
    "plot_loss(loss, val_loss, epochs)"
   ]
  },
  {
   "cell_type": "markdown",
   "metadata": {},
   "source": [
    "It is still overfitting severly"
   ]
  },
  {
   "cell_type": "code",
   "execution_count": null,
   "metadata": {},
   "outputs": [],
   "source": []
  }
 ],
 "metadata": {
  "kernelspec": {
   "display_name": "Python 3",
   "language": "python",
   "name": "python3"
  },
  "language_info": {
   "codemirror_mode": {
    "name": "ipython",
    "version": 3
   },
   "file_extension": ".py",
   "mimetype": "text/x-python",
   "name": "python",
   "nbconvert_exporter": "python",
   "pygments_lexer": "ipython3",
   "version": "3.7.4"
  }
 },
 "nbformat": 4,
 "nbformat_minor": 4
}

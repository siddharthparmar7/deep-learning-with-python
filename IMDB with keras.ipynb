{
 "cells": [
  {
   "cell_type": "code",
   "execution_count": 1,
   "metadata": {},
   "outputs": [],
   "source": [
    "import numpy as np\n",
    "import tensorflow as tf\n",
    "from tensorflow import keras"
   ]
  },
  {
   "cell_type": "code",
   "execution_count": 2,
   "metadata": {},
   "outputs": [],
   "source": [
    "from tensorflow.keras.datasets import imdb"
   ]
  },
  {
   "cell_type": "code",
   "execution_count": 3,
   "metadata": {},
   "outputs": [
    {
     "name": "stderr",
     "output_type": "stream",
     "text": [
      "<string>:6: VisibleDeprecationWarning: Creating an ndarray from ragged nested sequences (which is a list-or-tuple of lists-or-tuples-or ndarrays with different lengths or shapes) is deprecated. If you meant to do this, you must specify 'dtype=object' when creating the ndarray\n",
      "/Users/sidparmar/opt/anaconda3/envs/ml/lib/python3.7/site-packages/tensorflow/python/keras/datasets/imdb.py:159: VisibleDeprecationWarning: Creating an ndarray from ragged nested sequences (which is a list-or-tuple of lists-or-tuples-or ndarrays with different lengths or shapes) is deprecated. If you meant to do this, you must specify 'dtype=object' when creating the ndarray\n",
      "  x_train, y_train = np.array(xs[:idx]), np.array(labels[:idx])\n",
      "/Users/sidparmar/opt/anaconda3/envs/ml/lib/python3.7/site-packages/tensorflow/python/keras/datasets/imdb.py:160: VisibleDeprecationWarning: Creating an ndarray from ragged nested sequences (which is a list-or-tuple of lists-or-tuples-or ndarrays with different lengths or shapes) is deprecated. If you meant to do this, you must specify 'dtype=object' when creating the ndarray\n",
      "  x_test, y_test = np.array(xs[idx:]), np.array(labels[idx:])\n"
     ]
    }
   ],
   "source": [
    "(train_data, train_labels), (test_data, test_labels) = imdb.load_data(num_words=10000)"
   ]
  },
  {
   "cell_type": "code",
   "execution_count": 4,
   "metadata": {},
   "outputs": [
    {
     "data": {
      "text/plain": [
       "array([list([1, 14, 22, 16, 43, 530, 973, 1622, 1385, 65, 458, 4468, 66, 3941, 4, 173, 36, 256, 5, 25, 100, 43, 838, 112, 50, 670, 2, 9, 35, 480, 284, 5, 150, 4, 172, 112, 167, 2, 336, 385, 39, 4, 172, 4536, 1111, 17, 546, 38, 13, 447, 4, 192, 50, 16, 6, 147, 2025, 19, 14, 22, 4, 1920, 4613, 469, 4, 22, 71, 87, 12, 16, 43, 530, 38, 76, 15, 13, 1247, 4, 22, 17, 515, 17, 12, 16, 626, 18, 2, 5, 62, 386, 12, 8, 316, 8, 106, 5, 4, 2223, 5244, 16, 480, 66, 3785, 33, 4, 130, 12, 16, 38, 619, 5, 25, 124, 51, 36, 135, 48, 25, 1415, 33, 6, 22, 12, 215, 28, 77, 52, 5, 14, 407, 16, 82, 2, 8, 4, 107, 117, 5952, 15, 256, 4, 2, 7, 3766, 5, 723, 36, 71, 43, 530, 476, 26, 400, 317, 46, 7, 4, 2, 1029, 13, 104, 88, 4, 381, 15, 297, 98, 32, 2071, 56, 26, 141, 6, 194, 7486, 18, 4, 226, 22, 21, 134, 476, 26, 480, 5, 144, 30, 5535, 18, 51, 36, 28, 224, 92, 25, 104, 4, 226, 65, 16, 38, 1334, 88, 12, 16, 283, 5, 16, 4472, 113, 103, 32, 15, 16, 5345, 19, 178, 32]),\n",
       "       list([1, 194, 1153, 194, 8255, 78, 228, 5, 6, 1463, 4369, 5012, 134, 26, 4, 715, 8, 118, 1634, 14, 394, 20, 13, 119, 954, 189, 102, 5, 207, 110, 3103, 21, 14, 69, 188, 8, 30, 23, 7, 4, 249, 126, 93, 4, 114, 9, 2300, 1523, 5, 647, 4, 116, 9, 35, 8163, 4, 229, 9, 340, 1322, 4, 118, 9, 4, 130, 4901, 19, 4, 1002, 5, 89, 29, 952, 46, 37, 4, 455, 9, 45, 43, 38, 1543, 1905, 398, 4, 1649, 26, 6853, 5, 163, 11, 3215, 2, 4, 1153, 9, 194, 775, 7, 8255, 2, 349, 2637, 148, 605, 2, 8003, 15, 123, 125, 68, 2, 6853, 15, 349, 165, 4362, 98, 5, 4, 228, 9, 43, 2, 1157, 15, 299, 120, 5, 120, 174, 11, 220, 175, 136, 50, 9, 4373, 228, 8255, 5, 2, 656, 245, 2350, 5, 4, 9837, 131, 152, 491, 18, 2, 32, 7464, 1212, 14, 9, 6, 371, 78, 22, 625, 64, 1382, 9, 8, 168, 145, 23, 4, 1690, 15, 16, 4, 1355, 5, 28, 6, 52, 154, 462, 33, 89, 78, 285, 16, 145, 95]),\n",
       "       list([1, 14, 47, 8, 30, 31, 7, 4, 249, 108, 7, 4, 5974, 54, 61, 369, 13, 71, 149, 14, 22, 112, 4, 2401, 311, 12, 16, 3711, 33, 75, 43, 1829, 296, 4, 86, 320, 35, 534, 19, 263, 4821, 1301, 4, 1873, 33, 89, 78, 12, 66, 16, 4, 360, 7, 4, 58, 316, 334, 11, 4, 1716, 43, 645, 662, 8, 257, 85, 1200, 42, 1228, 2578, 83, 68, 3912, 15, 36, 165, 1539, 278, 36, 69, 2, 780, 8, 106, 14, 6905, 1338, 18, 6, 22, 12, 215, 28, 610, 40, 6, 87, 326, 23, 2300, 21, 23, 22, 12, 272, 40, 57, 31, 11, 4, 22, 47, 6, 2307, 51, 9, 170, 23, 595, 116, 595, 1352, 13, 191, 79, 638, 89, 2, 14, 9, 8, 106, 607, 624, 35, 534, 6, 227, 7, 129, 113]),\n",
       "       ...,\n",
       "       list([1, 11, 6, 230, 245, 6401, 9, 6, 1225, 446, 2, 45, 2174, 84, 8322, 4007, 21, 4, 912, 84, 2, 325, 725, 134, 2, 1715, 84, 5, 36, 28, 57, 1099, 21, 8, 140, 8, 703, 5, 2, 84, 56, 18, 1644, 14, 9, 31, 7, 4, 9406, 1209, 2295, 2, 1008, 18, 6, 20, 207, 110, 563, 12, 8, 2901, 2, 8, 97, 6, 20, 53, 4767, 74, 4, 460, 364, 1273, 29, 270, 11, 960, 108, 45, 40, 29, 2961, 395, 11, 6, 4065, 500, 7, 2, 89, 364, 70, 29, 140, 4, 64, 4780, 11, 4, 2678, 26, 178, 4, 529, 443, 2, 5, 27, 710, 117, 2, 8123, 165, 47, 84, 37, 131, 818, 14, 595, 10, 10, 61, 1242, 1209, 10, 10, 288, 2260, 1702, 34, 2901, 2, 4, 65, 496, 4, 231, 7, 790, 5, 6, 320, 234, 2766, 234, 1119, 1574, 7, 496, 4, 139, 929, 2901, 2, 7750, 5, 4241, 18, 4, 8497, 2, 250, 11, 1818, 7561, 4, 4217, 5408, 747, 1115, 372, 1890, 1006, 541, 9303, 7, 4, 59, 2, 4, 3586, 2]),\n",
       "       list([1, 1446, 7079, 69, 72, 3305, 13, 610, 930, 8, 12, 582, 23, 5, 16, 484, 685, 54, 349, 11, 4120, 2959, 45, 58, 1466, 13, 197, 12, 16, 43, 23, 2, 5, 62, 30, 145, 402, 11, 4131, 51, 575, 32, 61, 369, 71, 66, 770, 12, 1054, 75, 100, 2198, 8, 4, 105, 37, 69, 147, 712, 75, 3543, 44, 257, 390, 5, 69, 263, 514, 105, 50, 286, 1814, 23, 4, 123, 13, 161, 40, 5, 421, 4, 116, 16, 897, 13, 2, 40, 319, 5872, 112, 6700, 11, 4803, 121, 25, 70, 3468, 4, 719, 3798, 13, 18, 31, 62, 40, 8, 7200, 4, 2, 7, 14, 123, 5, 942, 25, 8, 721, 12, 145, 5, 202, 12, 160, 580, 202, 12, 6, 52, 58, 2, 92, 401, 728, 12, 39, 14, 251, 8, 15, 251, 5, 2, 12, 38, 84, 80, 124, 12, 9, 23]),\n",
       "       list([1, 17, 6, 194, 337, 7, 4, 204, 22, 45, 254, 8, 106, 14, 123, 4, 2, 270, 2, 5, 2, 2, 732, 2098, 101, 405, 39, 14, 1034, 4, 1310, 9, 115, 50, 305, 12, 47, 4, 168, 5, 235, 7, 38, 111, 699, 102, 7, 4, 4039, 9245, 9, 24, 6, 78, 1099, 17, 2345, 2, 21, 27, 9685, 6139, 5, 2, 1603, 92, 1183, 4, 1310, 7, 4, 204, 42, 97, 90, 35, 221, 109, 29, 127, 27, 118, 8, 97, 12, 157, 21, 6789, 2, 9, 6, 66, 78, 1099, 4, 631, 1191, 5, 2642, 272, 191, 1070, 6, 7585, 8, 2197, 2, 2, 544, 5, 383, 1271, 848, 1468, 2, 497, 2, 8, 1597, 8778, 2, 21, 60, 27, 239, 9, 43, 8368, 209, 405, 10, 10, 12, 764, 40, 4, 248, 20, 12, 16, 5, 174, 1791, 72, 7, 51, 6, 1739, 22, 4, 204, 131, 9])],\n",
       "      dtype=object)"
      ]
     },
     "execution_count": 4,
     "metadata": {},
     "output_type": "execute_result"
    }
   ],
   "source": [
    "train_data"
   ]
  },
  {
   "cell_type": "code",
   "execution_count": 5,
   "metadata": {},
   "outputs": [
    {
     "data": {
      "text/plain": [
       "array([1, 0, 0, ..., 0, 1, 0])"
      ]
     },
     "execution_count": 5,
     "metadata": {},
     "output_type": "execute_result"
    }
   ],
   "source": [
    "train_labels"
   ]
  },
  {
   "cell_type": "markdown",
   "metadata": {},
   "source": [
    "Decoding reviews back to English"
   ]
  },
  {
   "cell_type": "code",
   "execution_count": 6,
   "metadata": {},
   "outputs": [
    {
     "data": {
      "text/plain": [
       "\"? this film was just brilliant casting location scenery story direction everyone's really suited the part they played and you could just imagine being there robert ? is an amazing actor and now the same being director ? father came from the same scottish island as myself so i loved the fact there was a real connection with this film the witty remarks throughout the film were great it was just brilliant so much that i bought the film as soon as it was released for ? and would recommend it to everyone to watch and the fly fishing was amazing really cried at the end it was so sad and you know what they say if you cry at a film it must have been good and this definitely was also ? to the two little boy's that played the ? of norman and paul they were just brilliant children are often left out of the ? list i think because the stars that play them all grown up are such a big profile for the whole film but these children are amazing and should be praised for what they have done don't you think the whole story was so lovely because it was true and was someone's life after all that was shared with us all\""
      ]
     },
     "execution_count": 6,
     "metadata": {},
     "output_type": "execute_result"
    }
   ],
   "source": [
    "word_index = imdb.get_word_index()\n",
    "reverse_word_index = dict(\n",
    "    [(val, key) for (key, val) in word_index.items()]\n",
    ")\n",
    "decoded_review = ' '.join(\n",
    "    [reverse_word_index.get(i - 3, '?') for i in train_data[0]]\n",
    ")\n",
    "\n",
    "decoded_review"
   ]
  },
  {
   "cell_type": "markdown",
   "metadata": {},
   "source": [
    "#### Decodes the review. Note that the indices are offset by 3 because 0, 1, and 2 are reserved indices for “padding,” “start of sequence,” and “unknown.”"
   ]
  },
  {
   "cell_type": "markdown",
   "metadata": {},
   "source": [
    "#### Encoding the integer sequences into a binary matrix - one hot encoding - naive approach "
   ]
  },
  {
   "cell_type": "code",
   "execution_count": 7,
   "metadata": {},
   "outputs": [],
   "source": [
    "def vectorize_sequence(seq, dimention=10000):\n",
    "    res = np.zeros((len(seq), dimention))\n",
    "    \n",
    "    for i, seq in enumerate(seq):\n",
    "        res[i, seq] = 1.\n",
    "        \n",
    "    return res"
   ]
  },
  {
   "cell_type": "code",
   "execution_count": 8,
   "metadata": {},
   "outputs": [],
   "source": [
    "x_train = vectorize_sequence(train_data)\n",
    "x_test = vectorize_sequence(test_data)"
   ]
  },
  {
   "cell_type": "code",
   "execution_count": 9,
   "metadata": {},
   "outputs": [
    {
     "data": {
      "text/plain": [
       "array([0., 1., 1., ..., 0., 0., 0.])"
      ]
     },
     "execution_count": 9,
     "metadata": {},
     "output_type": "execute_result"
    }
   ],
   "source": [
    "x_train[0]"
   ]
  },
  {
   "cell_type": "markdown",
   "metadata": {},
   "source": [
    "Vectorizing labels"
   ]
  },
  {
   "cell_type": "code",
   "execution_count": 10,
   "metadata": {},
   "outputs": [],
   "source": [
    "y_train = np.asarray(train_labels).astype('float32')\n",
    "y_test = np.asarray(test_labels).astype('float32')"
   ]
  },
  {
   "cell_type": "markdown",
   "metadata": {},
   "source": [
    "#### Building a model"
   ]
  },
  {
   "cell_type": "code",
   "execution_count": 11,
   "metadata": {},
   "outputs": [],
   "source": [
    "from tensorflow.keras import models\n",
    "from tensorflow.keras import layers\n",
    "from tensorflow.keras import optimizers"
   ]
  },
  {
   "cell_type": "code",
   "execution_count": 12,
   "metadata": {},
   "outputs": [],
   "source": [
    "model = models.Sequential()\n",
    "model.add(layers.Dense(16, activation=\"relu\", input_shape=(10000,)))\n",
    "model.add(layers.Dense(16, activation=\"relu\"))\n",
    "model.add(layers.Dense(1, activation=\"sigmoid\"))"
   ]
  },
  {
   "cell_type": "code",
   "execution_count": 13,
   "metadata": {},
   "outputs": [],
   "source": [
    "model.compile(optimizer=optimizers.RMSprop(lr=0.001),\n",
    "              loss='binary_crossentropy',\n",
    "              metrics=['accuracy'])"
   ]
  },
  {
   "cell_type": "markdown",
   "metadata": {},
   "source": [
    "###### create a validation set"
   ]
  },
  {
   "cell_type": "code",
   "execution_count": 14,
   "metadata": {},
   "outputs": [],
   "source": [
    "x_val = x_train[:10000]\n",
    "partial_x_train = x_train[10000:]\n",
    "y_val = y_train[:10000]\n",
    "partial_y_train = y_train[10000:]"
   ]
  },
  {
   "cell_type": "markdown",
   "metadata": {},
   "source": [
    "training"
   ]
  },
  {
   "cell_type": "code",
   "execution_count": 15,
   "metadata": {},
   "outputs": [
    {
     "name": "stdout",
     "output_type": "stream",
     "text": [
      "Epoch 1/20\n",
      "30/30 [==============================] - 2s 60ms/step - loss: 0.5918 - accuracy: 0.7144 - val_loss: 0.3940 - val_accuracy: 0.8634\n",
      "Epoch 2/20\n",
      "30/30 [==============================] - 0s 15ms/step - loss: 0.3265 - accuracy: 0.9022 - val_loss: 0.3204 - val_accuracy: 0.8738\n",
      "Epoch 3/20\n",
      "30/30 [==============================] - 0s 15ms/step - loss: 0.2294 - accuracy: 0.9248 - val_loss: 0.2761 - val_accuracy: 0.8900\n",
      "Epoch 4/20\n",
      "30/30 [==============================] - 0s 15ms/step - loss: 0.1758 - accuracy: 0.9425 - val_loss: 0.2833 - val_accuracy: 0.8859\n",
      "Epoch 5/20\n",
      "30/30 [==============================] - 0s 15ms/step - loss: 0.1484 - accuracy: 0.9530 - val_loss: 0.2788 - val_accuracy: 0.8891\n",
      "Epoch 6/20\n",
      "30/30 [==============================] - 0s 16ms/step - loss: 0.1155 - accuracy: 0.9641 - val_loss: 0.2915 - val_accuracy: 0.8860\n",
      "Epoch 7/20\n",
      "30/30 [==============================] - 0s 15ms/step - loss: 0.0929 - accuracy: 0.9748 - val_loss: 0.3072 - val_accuracy: 0.8838\n",
      "Epoch 8/20\n",
      "30/30 [==============================] - 0s 15ms/step - loss: 0.0743 - accuracy: 0.9821 - val_loss: 0.3472 - val_accuracy: 0.8758\n",
      "Epoch 9/20\n",
      "30/30 [==============================] - 0s 15ms/step - loss: 0.0638 - accuracy: 0.9842 - val_loss: 0.3783 - val_accuracy: 0.8721\n",
      "Epoch 10/20\n",
      "30/30 [==============================] - 0s 16ms/step - loss: 0.0507 - accuracy: 0.9874 - val_loss: 0.3986 - val_accuracy: 0.8734\n",
      "Epoch 11/20\n",
      "30/30 [==============================] - 0s 15ms/step - loss: 0.0380 - accuracy: 0.9931 - val_loss: 0.4092 - val_accuracy: 0.8779\n",
      "Epoch 12/20\n",
      "30/30 [==============================] - 0s 15ms/step - loss: 0.0321 - accuracy: 0.9939 - val_loss: 0.4755 - val_accuracy: 0.8689\n",
      "Epoch 13/20\n",
      "30/30 [==============================] - 0s 15ms/step - loss: 0.0304 - accuracy: 0.9941 - val_loss: 0.4704 - val_accuracy: 0.8733\n",
      "Epoch 14/20\n",
      "30/30 [==============================] - 0s 15ms/step - loss: 0.0192 - accuracy: 0.9976 - val_loss: 0.5077 - val_accuracy: 0.8706\n",
      "Epoch 15/20\n",
      "30/30 [==============================] - 0s 15ms/step - loss: 0.0165 - accuracy: 0.9982 - val_loss: 0.5359 - val_accuracy: 0.8713\n",
      "Epoch 16/20\n",
      "30/30 [==============================] - 0s 15ms/step - loss: 0.0122 - accuracy: 0.9990 - val_loss: 0.5735 - val_accuracy: 0.8706\n",
      "Epoch 17/20\n",
      "30/30 [==============================] - 0s 15ms/step - loss: 0.0113 - accuracy: 0.9980 - val_loss: 0.6070 - val_accuracy: 0.8677\n",
      "Epoch 18/20\n",
      "30/30 [==============================] - 0s 16ms/step - loss: 0.0069 - accuracy: 0.9995 - val_loss: 0.6536 - val_accuracy: 0.8654\n",
      "Epoch 19/20\n",
      "30/30 [==============================] - 0s 15ms/step - loss: 0.0049 - accuracy: 0.9999 - val_loss: 0.6686 - val_accuracy: 0.8655\n",
      "Epoch 20/20\n",
      "30/30 [==============================] - 0s 15ms/step - loss: 0.0048 - accuracy: 0.9994 - val_loss: 0.7086 - val_accuracy: 0.8651\n"
     ]
    }
   ],
   "source": [
    "history = model.fit(partial_x_train, partial_y_train, epochs=20, batch_size=512, validation_data=(x_val, y_val))"
   ]
  },
  {
   "cell_type": "code",
   "execution_count": 16,
   "metadata": {},
   "outputs": [
    {
     "data": {
      "text/plain": [
       "dict_keys(['loss', 'accuracy', 'val_loss', 'val_accuracy'])"
      ]
     },
     "execution_count": 16,
     "metadata": {},
     "output_type": "execute_result"
    }
   ],
   "source": [
    "history_dict = history.history\n",
    "history_dict.keys()"
   ]
  },
  {
   "cell_type": "markdown",
   "metadata": {},
   "source": [
    "Plotting training and validation loss"
   ]
  },
  {
   "cell_type": "code",
   "execution_count": 17,
   "metadata": {},
   "outputs": [],
   "source": [
    "import matplotlib.pyplot as plt"
   ]
  },
  {
   "cell_type": "code",
   "execution_count": 18,
   "metadata": {},
   "outputs": [
    {
     "data": {
      "image/png": "[encoded data removed]",
      "text/plain": [
       "<Figure size 432x288 with 1 Axes>"
      ]
     },
     "metadata": {
      "needs_background": "light"
     },
     "output_type": "display_data"
    }
   ],
   "source": [
    "loss_vals = history_dict[\"loss\"]\n",
    "validation_loss_vals = history_dict[\"val_loss\"]\n",
    "acc = history_dict['accuracy']\n",
    "val_acc = history_dict['val_accuracy']\n",
    "\n",
    "epochs = range(1, len(acc) + 1)\n",
    "\n",
    "plt.plot(epochs, loss_vals, 'bo', label=\"Training Loss\")\n",
    "plt.plot(epochs, validation_loss_vals, 'b', label=\"validation Loss\")\n",
    "plt.title(\"Training and validation loss\")\n",
    "plt.xlabel(\"Epochs\")\n",
    "plt.ylabel(\"Loss\")\n",
    "plt.legend()\n",
    "plt.show()"
   ]
  },
  {
   "cell_type": "markdown",
   "metadata": {},
   "source": [
    "plotting training and validation accuracy"
   ]
  },
  {
   "cell_type": "code",
   "execution_count": 19,
   "metadata": {},
   "outputs": [
    {
     "data": {
      "image/png": "[encoded data removed]",
      "text/plain": [
       "<Figure size 432x288 with 1 Axes>"
      ]
     },
     "metadata": {
      "needs_background": "light"
     },
     "output_type": "display_data"
    }
   ],
   "source": [
    "plt.plot(epochs, acc, 'bo', label=\"Training Accuracy\")\n",
    "plt.plot(epochs, val_acc, 'b', label=\"validation Accuracy\")\n",
    "plt.title(\"Training and validation Accuracy\")\n",
    "plt.xlabel(\"Epochs\")\n",
    "plt.ylabel(\"Accuracy\")\n",
    "plt.legend()\n",
    "plt.show()"
   ]
  },
  {
   "cell_type": "markdown",
   "metadata": {},
   "source": [
    "The model we used is overfitting the data as you can see from the graphs.\n",
    "\n",
    "Let's create a new model with 4 epochs from scratch."
   ]
  },
  {
   "cell_type": "code",
   "execution_count": 20,
   "metadata": {},
   "outputs": [],
   "source": [
    "tf.keras.backend.clear_session()"
   ]
  },
  {
   "cell_type": "code",
   "execution_count": 21,
   "metadata": {},
   "outputs": [],
   "source": [
    "model = models.Sequential()\n",
    "model.add(layers.Dense(16, activation=\"relu\", input_shape=(10000,)))\n",
    "model.add(layers.Dense(16, activation=\"relu\"))\n",
    "model.add(layers.Dense(1, activation=\"sigmoid\"))"
   ]
  },
  {
   "cell_type": "code",
   "execution_count": 22,
   "metadata": {},
   "outputs": [],
   "source": [
    "model.compile(optimizer=optimizers.RMSprop(lr=0.001),\n",
    "              loss='binary_crossentropy',\n",
    "              metrics=['accuracy'])"
   ]
  },
  {
   "cell_type": "code",
   "execution_count": 23,
   "metadata": {},
   "outputs": [
    {
     "name": "stdout",
     "output_type": "stream",
     "text": [
      "Epoch 1/4\n",
      "49/49 [==============================] - 1s 15ms/step - loss: 0.5428 - accuracy: 0.7596\n",
      "Epoch 2/4\n",
      "49/49 [==============================] - 1s 10ms/step - loss: 0.2821 - accuracy: 0.9034\n",
      "Epoch 3/4\n",
      "49/49 [==============================] - 0s 10ms/step - loss: 0.2047 - accuracy: 0.9307\n",
      "Epoch 4/4\n",
      "49/49 [==============================] - 0s 10ms/step - loss: 0.1675 - accuracy: 0.9429\n",
      "782/782 [==============================] - 1s 1ms/step - loss: 0.2890 - accuracy: 0.8849\n"
     ]
    }
   ],
   "source": [
    "history = model.fit(x_train, y_train, epochs=4, batch_size=512)\n",
    "results = model.evaluate(x_test, y_test)"
   ]
  },
  {
   "cell_type": "code",
   "execution_count": 24,
   "metadata": {},
   "outputs": [
    {
     "data": {
      "text/plain": [
       "[0.2890305817127228, 0.884880006313324]"
      ]
     },
     "execution_count": 24,
     "metadata": {},
     "output_type": "execute_result"
    }
   ],
   "source": [
    "results"
   ]
  },
  {
   "cell_type": "markdown",
   "metadata": {},
   "source": [
    "88% accuracy on test data."
   ]
  },
  {
   "cell_type": "code",
   "execution_count": 25,
   "metadata": {},
   "outputs": [],
   "source": [
    "def plot_val_loss(history_dict):\n",
    "    loss_vals = history_dict[\"loss\"]\n",
    "    validation_loss_vals = history_dict[\"val_loss\"]\n",
    "    acc = history_dict['accuracy']\n",
    "    val_acc = history_dict['val_accuracy']\n",
    "\n",
    "    epochs = range(1, len(acc) + 1)\n",
    "\n",
    "    plt.plot(epochs, loss_vals, 'bo', label=\"Training Loss\")\n",
    "    plt.plot(epochs, validation_loss_vals, 'b', label=\"validation Loss\")\n",
    "    plt.title(\"Training and validation loss\")\n",
    "    plt.xlabel(\"Epochs\")\n",
    "    plt.ylabel(\"Loss\")\n",
    "    plt.legend()\n",
    "    plt.show()\n",
    "    \n",
    "def plot_accuracy(history_dict):\n",
    "    \n",
    "    loss_vals = history_dict[\"loss\"]\n",
    "    validation_loss_vals = history_dict[\"val_loss\"]\n",
    "    acc = history_dict['accuracy']\n",
    "    val_acc = history_dict['val_accuracy']\n",
    "\n",
    "    epochs = range(1, len(acc) + 1)\n",
    "    \n",
    "    plt.plot(epochs, acc, 'bo', label=\"Training Accuracy\")\n",
    "    plt.plot(epochs, val_acc, 'b', label=\"validation Accuracy\")\n",
    "    plt.title(\"Training and validation Accuracy\")\n",
    "    plt.xlabel(\"Epochs\")\n",
    "    plt.ylabel(\"Accuracy\")\n",
    "    plt.legend()\n",
    "    plt.show()\n",
    "    "
   ]
  },
  {
   "cell_type": "markdown",
   "metadata": {},
   "source": [
    "### L1 and L2 regularization "
   ]
  },
  {
   "cell_type": "code",
   "execution_count": 29,
   "metadata": {},
   "outputs": [],
   "source": [
    "from tensorflow.keras import regularizers"
   ]
  },
  {
   "cell_type": "code",
   "execution_count": 34,
   "metadata": {},
   "outputs": [
    {
     "name": "stdout",
     "output_type": "stream",
     "text": [
      "Epoch 1/20\n",
      "30/30 [==============================] - 2s 36ms/step - loss: 1.5518 - accuracy: 0.6496 - val_loss: 0.7624 - val_accuracy: 0.8108\n",
      "Epoch 2/20\n",
      "30/30 [==============================] - 0s 16ms/step - loss: 0.7328 - accuracy: 0.8179 - val_loss: 0.7056 - val_accuracy: 0.8114\n",
      "Epoch 3/20\n",
      "30/30 [==============================] - 0s 16ms/step - loss: 0.6765 - accuracy: 0.8305 - val_loss: 0.6750 - val_accuracy: 0.8154\n",
      "Epoch 4/20\n",
      "30/30 [==============================] - 0s 16ms/step - loss: 0.6359 - accuracy: 0.8445 - val_loss: 0.6351 - val_accuracy: 0.8375\n",
      "Epoch 5/20\n",
      "30/30 [==============================] - 0s 16ms/step - loss: 0.6078 - accuracy: 0.8578 - val_loss: 0.6023 - val_accuracy: 0.8606\n",
      "Epoch 6/20\n",
      "30/30 [==============================] - 0s 17ms/step - loss: 0.5819 - accuracy: 0.8671 - val_loss: 0.5848 - val_accuracy: 0.8635\n",
      "Epoch 7/20\n",
      "30/30 [==============================] - 1s 17ms/step - loss: 0.5688 - accuracy: 0.8691 - val_loss: 0.5812 - val_accuracy: 0.8623\n",
      "Epoch 8/20\n",
      "30/30 [==============================] - 1s 17ms/step - loss: 0.5608 - accuracy: 0.8722 - val_loss: 0.5603 - val_accuracy: 0.8688\n",
      "Epoch 9/20\n",
      "30/30 [==============================] - 1s 17ms/step - loss: 0.5353 - accuracy: 0.8777 - val_loss: 0.5702 - val_accuracy: 0.8602\n",
      "Epoch 10/20\n",
      "30/30 [==============================] - 1s 18ms/step - loss: 0.5334 - accuracy: 0.8770 - val_loss: 0.5833 - val_accuracy: 0.8495\n",
      "Epoch 11/20\n",
      "30/30 [==============================] - 1s 18ms/step - loss: 0.5357 - accuracy: 0.8745 - val_loss: 0.5621 - val_accuracy: 0.8620\n",
      "Epoch 12/20\n",
      "30/30 [==============================] - 1s 18ms/step - loss: 0.5127 - accuracy: 0.8876 - val_loss: 0.5337 - val_accuracy: 0.8749\n",
      "Epoch 13/20\n",
      "30/30 [==============================] - 1s 17ms/step - loss: 0.5082 - accuracy: 0.8848 - val_loss: 0.5347 - val_accuracy: 0.8752\n",
      "Epoch 14/20\n",
      "30/30 [==============================] - 0s 17ms/step - loss: 0.5042 - accuracy: 0.8862 - val_loss: 0.5420 - val_accuracy: 0.8639\n",
      "Epoch 15/20\n",
      "30/30 [==============================] - 1s 17ms/step - loss: 0.4898 - accuracy: 0.8931 - val_loss: 0.5384 - val_accuracy: 0.8661\n",
      "Epoch 16/20\n",
      "30/30 [==============================] - 1s 19ms/step - loss: 0.4821 - accuracy: 0.8948 - val_loss: 0.5253 - val_accuracy: 0.8709\n",
      "Epoch 17/20\n",
      "30/30 [==============================] - 1s 20ms/step - loss: 0.4749 - accuracy: 0.8947 - val_loss: 0.5192 - val_accuracy: 0.8718\n",
      "Epoch 18/20\n",
      "30/30 [==============================] - 1s 18ms/step - loss: 0.4717 - accuracy: 0.8970 - val_loss: 0.5115 - val_accuracy: 0.8764\n",
      "Epoch 19/20\n",
      "30/30 [==============================] - 1s 18ms/step - loss: 0.4655 - accuracy: 0.8965 - val_loss: 0.5135 - val_accuracy: 0.8745\n",
      "Epoch 20/20\n",
      "30/30 [==============================] - 1s 18ms/step - loss: 0.4584 - accuracy: 0.8997 - val_loss: 0.5172 - val_accuracy: 0.8691\n"
     ]
    }
   ],
   "source": [
    "model = models.Sequential()\n",
    "\n",
    "model.add(layers.Dense(16, kernel_regularizer=regularizers.l1_l2(l1=0.001, l2=0.001), activation=\"relu\", input_shape=(10000,)))\n",
    "model.add(layers.Dense(16,kernel_regularizer=regularizers.l1_l2(l1=0.001, l2=0.001), activation=\"relu\"))\n",
    "model.add(layers.Dense(1, activation=\"sigmoid\"))\n",
    "\n",
    "model.compile(optimizer=optimizers.RMSprop(lr=0.001),\n",
    "              loss='binary_crossentropy',\n",
    "              metrics=['accuracy'])\n",
    "\n",
    "history = model.fit(partial_x_train, partial_y_train, epochs=20, batch_size=512, validation_data=(x_val, y_val))"
   ]
  },
  {
   "cell_type": "code",
   "execution_count": 35,
   "metadata": {},
   "outputs": [
    {
     "data": {
      "image/png": "[encoded data removed]",
      "text/plain": [
       "<Figure size 432x288 with 1 Axes>"
      ]
     },
     "metadata": {
      "needs_background": "light"
     },
     "output_type": "display_data"
    }
   ],
   "source": [
    "plot_val_loss(history.history)"
   ]
  },
  {
   "cell_type": "code",
   "execution_count": 36,
   "metadata": {},
   "outputs": [
    {
     "data": {
      "image/png": "[encoded data removed]",
      "text/plain": [
       "<Figure size 432x288 with 1 Axes>"
      ]
     },
     "metadata": {
      "needs_background": "light"
     },
     "output_type": "display_data"
    }
   ],
   "source": [
    "plot_accuracy(history.history)"
   ]
  },
  {
   "cell_type": "markdown",
   "metadata": {},
   "source": [
    "Applying l1 and l2 loss functions improved validation accuracy and decreased loss. It is almost the same as training loss and accuracy.\n",
    "\n",
    "The model is not overfitting as much as it was before."
   ]
  },
  {
   "cell_type": "markdown",
   "metadata": {},
   "source": [
    "### Adding Dropout layer"
   ]
  },
  {
   "cell_type": "code",
   "execution_count": 55,
   "metadata": {},
   "outputs": [
    {
     "name": "stdout",
     "output_type": "stream",
     "text": [
      "Epoch 1/20\n",
      "30/30 [==============================] - 2s 49ms/step - loss: 0.6522 - accuracy: 0.6011 - val_loss: 0.4783 - val_accuracy: 0.8510\n",
      "Epoch 2/20\n",
      "30/30 [==============================] - 1s 24ms/step - loss: 0.4901 - accuracy: 0.7864 - val_loss: 0.3711 - val_accuracy: 0.8742\n",
      "Epoch 3/20\n",
      "30/30 [==============================] - 1s 17ms/step - loss: 0.4040 - accuracy: 0.8358 - val_loss: 0.3145 - val_accuracy: 0.8804\n",
      "Epoch 4/20\n",
      "30/30 [==============================] - 1s 17ms/step - loss: 0.3465 - accuracy: 0.8696 - val_loss: 0.2907 - val_accuracy: 0.8848\n",
      "Epoch 5/20\n",
      "30/30 [==============================] - 0s 17ms/step - loss: 0.2929 - accuracy: 0.8931 - val_loss: 0.2763 - val_accuracy: 0.8878\n",
      "Epoch 6/20\n",
      "30/30 [==============================] - 0s 16ms/step - loss: 0.2564 - accuracy: 0.9113 - val_loss: 0.2750 - val_accuracy: 0.8867\n",
      "Epoch 7/20\n",
      "30/30 [==============================] - 0s 17ms/step - loss: 0.2264 - accuracy: 0.9280 - val_loss: 0.2847 - val_accuracy: 0.8851\n",
      "Epoch 8/20\n",
      "30/30 [==============================] - 1s 17ms/step - loss: 0.1913 - accuracy: 0.9383 - val_loss: 0.2901 - val_accuracy: 0.8897\n",
      "Epoch 9/20\n",
      "30/30 [==============================] - 1s 17ms/step - loss: 0.1769 - accuracy: 0.9443 - val_loss: 0.3009 - val_accuracy: 0.8889\n",
      "Epoch 10/20\n",
      "30/30 [==============================] - 1s 18ms/step - loss: 0.1615 - accuracy: 0.9462 - val_loss: 0.3208 - val_accuracy: 0.8838\n",
      "Epoch 11/20\n",
      "30/30 [==============================] - 1s 18ms/step - loss: 0.1431 - accuracy: 0.9515 - val_loss: 0.3680 - val_accuracy: 0.8854\n",
      "Epoch 12/20\n",
      "30/30 [==============================] - 1s 18ms/step - loss: 0.1287 - accuracy: 0.9592 - val_loss: 0.3620 - val_accuracy: 0.8888\n",
      "Epoch 13/20\n",
      "30/30 [==============================] - 1s 18ms/step - loss: 0.1119 - accuracy: 0.9627 - val_loss: 0.3874 - val_accuracy: 0.8887\n",
      "Epoch 14/20\n",
      "30/30 [==============================] - 1s 17ms/step - loss: 0.1058 - accuracy: 0.9638 - val_loss: 0.4283 - val_accuracy: 0.8865\n",
      "Epoch 15/20\n",
      "30/30 [==============================] - 0s 17ms/step - loss: 0.0966 - accuracy: 0.9668 - val_loss: 0.4412 - val_accuracy: 0.8870\n",
      "Epoch 16/20\n",
      "30/30 [==============================] - 0s 17ms/step - loss: 0.0919 - accuracy: 0.9698 - val_loss: 0.4768 - val_accuracy: 0.8865\n",
      "Epoch 17/20\n",
      "30/30 [==============================] - 1s 17ms/step - loss: 0.0772 - accuracy: 0.9722 - val_loss: 0.4778 - val_accuracy: 0.8865\n",
      "Epoch 18/20\n",
      "30/30 [==============================] - 0s 17ms/step - loss: 0.0815 - accuracy: 0.9712 - val_loss: 0.5272 - val_accuracy: 0.8835\n",
      "Epoch 19/20\n",
      "30/30 [==============================] - 1s 17ms/step - loss: 0.0787 - accuracy: 0.9713 - val_loss: 0.5315 - val_accuracy: 0.8846\n",
      "Epoch 20/20\n",
      "30/30 [==============================] - 1s 19ms/step - loss: 0.0692 - accuracy: 0.9747 - val_loss: 0.5617 - val_accuracy: 0.8851\n"
     ]
    }
   ],
   "source": [
    "model = models.Sequential()\n",
    "\n",
    "model.add(layers.Dense(16, activation=\"relu\", input_shape=(10000,)))\n",
    "model.add(layers.Dropout(0.5))\n",
    "model.add(layers.Dense(16, activation=\"relu\"))\n",
    "model.add(layers.Dropout(0.5))\n",
    "model.add(layers.Dense(1, activation=\"sigmoid\"))\n",
    "\n",
    "model.compile(optimizer=optimizers.RMSprop(lr=0.001),\n",
    "              loss='binary_crossentropy',\n",
    "              metrics=['accuracy'])\n",
    "\n",
    "history = model.fit(partial_x_train, partial_y_train, epochs=20, batch_size=512, validation_data=(x_val, y_val))"
   ]
  },
  {
   "cell_type": "code",
   "execution_count": 56,
   "metadata": {},
   "outputs": [
    {
     "data": {
      "image/png": "[encoded data removed]",
      "text/plain": [
       "<Figure size 432x288 with 1 Axes>"
      ]
     },
     "metadata": {
      "needs_background": "light"
     },
     "output_type": "display_data"
    }
   ],
   "source": [
    "plot_val_loss(history.history)"
   ]
  },
  {
   "cell_type": "code",
   "execution_count": 57,
   "metadata": {},
   "outputs": [
    {
     "data": {
      "image/png": "[encoded data removed]",
      "text/plain": [
       "<Figure size 432x288 with 1 Axes>"
      ]
     },
     "metadata": {
      "needs_background": "light"
     },
     "output_type": "display_data"
    }
   ],
   "source": [
    "plot_accuracy(history.history)"
   ]
  },
  {
   "cell_type": "markdown",
   "metadata": {},
   "source": [
    "Using dropout method on this model we were able to reduce overfitting a little. Validation loss is lower and validationaccuracy is a little higher than the original model."
   ]
  },
  {
   "cell_type": "code",
   "execution_count": null,
   "metadata": {},
   "outputs": [],
   "source": []
  }
 ],
 "metadata": {
  "kernelspec": {
   "display_name": "Python 3",
   "language": "python",
   "name": "python3"
  },
  "language_info": {
   "codemirror_mode": {
    "name": "ipython",
    "version": 3
   },
   "file_extension": ".py",
   "mimetype": "text/x-python",
   "name": "python",
   "nbconvert_exporter": "python",
   "pygments_lexer": "ipython3",
   "version": "3.7.4"
  }
 },
 "nbformat": 4,
 "nbformat_minor": 4
}
